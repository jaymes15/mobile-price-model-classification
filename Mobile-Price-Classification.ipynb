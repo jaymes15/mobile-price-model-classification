{
 "cells": [
  {
   "cell_type": "markdown",
   "id": "d0ecfc46-c83f-44a9-944a-c8b69310f194",
   "metadata": {},
   "source": [
    "# Mobile Price Classification\n",
    "\n",
    "Bob, the founder of a new mobile company, is aiming to compete with established giants like Apple and Samsung in the mobile phone market. However, to make informed decisions about pricing, he needs to understand the relationship between various features of a mobile phone (such as RAM, internal memory, etc.) and its selling price. This is where machine learning comes in.\n",
    "\n",
    "In this notebook, we will assist Bob in solving his problem by building a machine learning model that can classify mobile phones into different price ranges based on their features. Instead of predicting the actual price, we'll focus on categorizing the phones into price tiers, indicating how high the price is relative to others.\n",
    "\n",
    "You can find the Kaggle problem: https://www.kaggle.com/datasets/iabhishekofficial/mobile-price-classification\n",
    "\n",
    "What we're going to cover:\n",
    "\n",
    "1. Getting the data ready\n",
    "2. Choose the right estimator/algorithm for our problems\n",
    "3. Fit the model/algorithm and use it to make predictions on our data\n",
    "4. Evaluating a model\n",
    "5. Improve a model\n",
    "6. Save and load a trained model\n",
    "7. Conclusion\n",
    "8. Predict test data and save predictions"
   ]
  },
  {
   "cell_type": "markdown",
   "id": "7da8cf00-148d-4f0f-8354-4db6a51911e7",
   "metadata": {},
   "source": [
    "## 1. Getting the data ready"
   ]
  },
  {
   "cell_type": "code",
   "execution_count": 74,
   "id": "f640be82-7422-4fcb-8462-2bd8fe4a8f82",
   "metadata": {},
   "outputs": [
    {
     "data": {
      "text/html": [
       "<div>\n",
       "<style scoped>\n",
       "    .dataframe tbody tr th:only-of-type {\n",
       "        vertical-align: middle;\n",
       "    }\n",
       "\n",
       "    .dataframe tbody tr th {\n",
       "        vertical-align: top;\n",
       "    }\n",
       "\n",
       "    .dataframe thead th {\n",
       "        text-align: right;\n",
       "    }\n",
       "</style>\n",
       "<table border=\"1\" class=\"dataframe\">\n",
       "  <thead>\n",
       "    <tr style=\"text-align: right;\">\n",
       "      <th></th>\n",
       "      <th>battery_power</th>\n",
       "      <th>blue</th>\n",
       "      <th>clock_speed</th>\n",
       "      <th>dual_sim</th>\n",
       "      <th>fc</th>\n",
       "      <th>four_g</th>\n",
       "      <th>int_memory</th>\n",
       "      <th>m_dep</th>\n",
       "      <th>mobile_wt</th>\n",
       "      <th>n_cores</th>\n",
       "      <th>...</th>\n",
       "      <th>px_height</th>\n",
       "      <th>px_width</th>\n",
       "      <th>ram</th>\n",
       "      <th>sc_h</th>\n",
       "      <th>sc_w</th>\n",
       "      <th>talk_time</th>\n",
       "      <th>three_g</th>\n",
       "      <th>touch_screen</th>\n",
       "      <th>wifi</th>\n",
       "      <th>price_range</th>\n",
       "    </tr>\n",
       "  </thead>\n",
       "  <tbody>\n",
       "    <tr>\n",
       "      <th>0</th>\n",
       "      <td>842</td>\n",
       "      <td>0</td>\n",
       "      <td>2.2</td>\n",
       "      <td>0</td>\n",
       "      <td>1</td>\n",
       "      <td>0</td>\n",
       "      <td>7</td>\n",
       "      <td>0.6</td>\n",
       "      <td>188</td>\n",
       "      <td>2</td>\n",
       "      <td>...</td>\n",
       "      <td>20</td>\n",
       "      <td>756</td>\n",
       "      <td>2549</td>\n",
       "      <td>9</td>\n",
       "      <td>7</td>\n",
       "      <td>19</td>\n",
       "      <td>0</td>\n",
       "      <td>0</td>\n",
       "      <td>1</td>\n",
       "      <td>1</td>\n",
       "    </tr>\n",
       "    <tr>\n",
       "      <th>1</th>\n",
       "      <td>1021</td>\n",
       "      <td>1</td>\n",
       "      <td>0.5</td>\n",
       "      <td>1</td>\n",
       "      <td>0</td>\n",
       "      <td>1</td>\n",
       "      <td>53</td>\n",
       "      <td>0.7</td>\n",
       "      <td>136</td>\n",
       "      <td>3</td>\n",
       "      <td>...</td>\n",
       "      <td>905</td>\n",
       "      <td>1988</td>\n",
       "      <td>2631</td>\n",
       "      <td>17</td>\n",
       "      <td>3</td>\n",
       "      <td>7</td>\n",
       "      <td>1</td>\n",
       "      <td>1</td>\n",
       "      <td>0</td>\n",
       "      <td>2</td>\n",
       "    </tr>\n",
       "    <tr>\n",
       "      <th>2</th>\n",
       "      <td>563</td>\n",
       "      <td>1</td>\n",
       "      <td>0.5</td>\n",
       "      <td>1</td>\n",
       "      <td>2</td>\n",
       "      <td>1</td>\n",
       "      <td>41</td>\n",
       "      <td>0.9</td>\n",
       "      <td>145</td>\n",
       "      <td>5</td>\n",
       "      <td>...</td>\n",
       "      <td>1263</td>\n",
       "      <td>1716</td>\n",
       "      <td>2603</td>\n",
       "      <td>11</td>\n",
       "      <td>2</td>\n",
       "      <td>9</td>\n",
       "      <td>1</td>\n",
       "      <td>1</td>\n",
       "      <td>0</td>\n",
       "      <td>2</td>\n",
       "    </tr>\n",
       "    <tr>\n",
       "      <th>3</th>\n",
       "      <td>615</td>\n",
       "      <td>1</td>\n",
       "      <td>2.5</td>\n",
       "      <td>0</td>\n",
       "      <td>0</td>\n",
       "      <td>0</td>\n",
       "      <td>10</td>\n",
       "      <td>0.8</td>\n",
       "      <td>131</td>\n",
       "      <td>6</td>\n",
       "      <td>...</td>\n",
       "      <td>1216</td>\n",
       "      <td>1786</td>\n",
       "      <td>2769</td>\n",
       "      <td>16</td>\n",
       "      <td>8</td>\n",
       "      <td>11</td>\n",
       "      <td>1</td>\n",
       "      <td>0</td>\n",
       "      <td>0</td>\n",
       "      <td>2</td>\n",
       "    </tr>\n",
       "    <tr>\n",
       "      <th>4</th>\n",
       "      <td>1821</td>\n",
       "      <td>1</td>\n",
       "      <td>1.2</td>\n",
       "      <td>0</td>\n",
       "      <td>13</td>\n",
       "      <td>1</td>\n",
       "      <td>44</td>\n",
       "      <td>0.6</td>\n",
       "      <td>141</td>\n",
       "      <td>2</td>\n",
       "      <td>...</td>\n",
       "      <td>1208</td>\n",
       "      <td>1212</td>\n",
       "      <td>1411</td>\n",
       "      <td>8</td>\n",
       "      <td>2</td>\n",
       "      <td>15</td>\n",
       "      <td>1</td>\n",
       "      <td>1</td>\n",
       "      <td>0</td>\n",
       "      <td>1</td>\n",
       "    </tr>\n",
       "  </tbody>\n",
       "</table>\n",
       "<p>5 rows × 21 columns</p>\n",
       "</div>"
      ],
      "text/plain": [
       "   battery_power  blue  clock_speed  dual_sim  fc  four_g  int_memory  m_dep  \\\n",
       "0            842     0          2.2         0   1       0           7    0.6   \n",
       "1           1021     1          0.5         1   0       1          53    0.7   \n",
       "2            563     1          0.5         1   2       1          41    0.9   \n",
       "3            615     1          2.5         0   0       0          10    0.8   \n",
       "4           1821     1          1.2         0  13       1          44    0.6   \n",
       "\n",
       "   mobile_wt  n_cores  ...  px_height  px_width   ram  sc_h  sc_w  talk_time  \\\n",
       "0        188        2  ...         20       756  2549     9     7         19   \n",
       "1        136        3  ...        905      1988  2631    17     3          7   \n",
       "2        145        5  ...       1263      1716  2603    11     2          9   \n",
       "3        131        6  ...       1216      1786  2769    16     8         11   \n",
       "4        141        2  ...       1208      1212  1411     8     2         15   \n",
       "\n",
       "   three_g  touch_screen  wifi  price_range  \n",
       "0        0             0     1            1  \n",
       "1        1             1     0            2  \n",
       "2        1             1     0            2  \n",
       "3        1             0     0            2  \n",
       "4        1             1     0            1  \n",
       "\n",
       "[5 rows x 21 columns]"
      ]
     },
     "execution_count": 74,
     "metadata": {},
     "output_type": "execute_result"
    }
   ],
   "source": [
    "import pandas as pd\n",
    "import numpy as np\n",
    "\n",
    "mobile_price_data = pd.read_csv(\"./data/train.csv\")\n",
    "mobile_price_data.head()"
   ]
  },
  {
   "cell_type": "code",
   "execution_count": 75,
   "id": "b888d002-1c5c-4d8c-931d-1b791d897ae5",
   "metadata": {},
   "outputs": [
    {
     "data": {
      "text/plain": [
       "2000"
      ]
     },
     "execution_count": 75,
     "metadata": {},
     "output_type": "execute_result"
    }
   ],
   "source": [
    "# Total number of rows\n",
    "len(mobile_price_data)"
   ]
  },
  {
   "cell_type": "code",
   "execution_count": 76,
   "id": "dbbfd150-ec8a-4c5e-b552-494d894b12e2",
   "metadata": {},
   "outputs": [
    {
     "data": {
      "text/plain": [
       "battery_power      int64\n",
       "blue               int64\n",
       "clock_speed      float64\n",
       "dual_sim           int64\n",
       "fc                 int64\n",
       "four_g             int64\n",
       "int_memory         int64\n",
       "m_dep            float64\n",
       "mobile_wt          int64\n",
       "n_cores            int64\n",
       "pc                 int64\n",
       "px_height          int64\n",
       "px_width           int64\n",
       "ram                int64\n",
       "sc_h               int64\n",
       "sc_w               int64\n",
       "talk_time          int64\n",
       "three_g            int64\n",
       "touch_screen       int64\n",
       "wifi               int64\n",
       "price_range        int64\n",
       "dtype: object"
      ]
     },
     "execution_count": 76,
     "metadata": {},
     "output_type": "execute_result"
    }
   ],
   "source": [
    "mobile_price_data.dtypes"
   ]
  },
  {
   "cell_type": "markdown",
   "id": "648c1b5f-1338-4ba3-a5d1-18d24599b335",
   "metadata": {},
   "source": [
    "### 1a. Drop N/A columns"
   ]
  },
  {
   "cell_type": "code",
   "execution_count": 77,
   "id": "16a594c1-28a1-4755-8fe9-4b2c7a4d63db",
   "metadata": {},
   "outputs": [
    {
     "data": {
      "text/plain": [
       "battery_power    0\n",
       "blue             0\n",
       "clock_speed      0\n",
       "dual_sim         0\n",
       "fc               0\n",
       "four_g           0\n",
       "int_memory       0\n",
       "m_dep            0\n",
       "mobile_wt        0\n",
       "n_cores          0\n",
       "pc               0\n",
       "px_height        0\n",
       "px_width         0\n",
       "ram              0\n",
       "sc_h             0\n",
       "sc_w             0\n",
       "talk_time        0\n",
       "three_g          0\n",
       "touch_screen     0\n",
       "wifi             0\n",
       "price_range      0\n",
       "dtype: int64"
      ]
     },
     "execution_count": 77,
     "metadata": {},
     "output_type": "execute_result"
    }
   ],
   "source": [
    "# Identify Column With N/A values\n",
    "mobile_price_data.isna().sum()"
   ]
  },
  {
   "cell_type": "markdown",
   "id": "28cea23c-df74-421b-87c9-8543da66fb5a",
   "metadata": {},
   "source": [
    "### 1b. Shuffle Data"
   ]
  },
  {
   "cell_type": "code",
   "execution_count": 78,
   "id": "2b4c06bd-af56-4ae0-956e-f7c6f5a62189",
   "metadata": {},
   "outputs": [],
   "source": [
    "mobile_price_data = mobile_price_data.sample(frac=1, random_state=42)"
   ]
  },
  {
   "cell_type": "markdown",
   "id": "47fdcf9d-7a0c-4272-a096-47b1566f8559",
   "metadata": {},
   "source": [
    "### 1c. Check for Duplicate"
   ]
  },
  {
   "cell_type": "code",
   "execution_count": 79,
   "id": "fc8714d9-7694-41f1-aa45-5270c42a3f67",
   "metadata": {},
   "outputs": [
    {
     "data": {
      "text/html": [
       "<div>\n",
       "<style scoped>\n",
       "    .dataframe tbody tr th:only-of-type {\n",
       "        vertical-align: middle;\n",
       "    }\n",
       "\n",
       "    .dataframe tbody tr th {\n",
       "        vertical-align: top;\n",
       "    }\n",
       "\n",
       "    .dataframe thead th {\n",
       "        text-align: right;\n",
       "    }\n",
       "</style>\n",
       "<table border=\"1\" class=\"dataframe\">\n",
       "  <thead>\n",
       "    <tr style=\"text-align: right;\">\n",
       "      <th></th>\n",
       "      <th>battery_power</th>\n",
       "      <th>blue</th>\n",
       "      <th>clock_speed</th>\n",
       "      <th>dual_sim</th>\n",
       "      <th>fc</th>\n",
       "      <th>four_g</th>\n",
       "      <th>int_memory</th>\n",
       "      <th>m_dep</th>\n",
       "      <th>mobile_wt</th>\n",
       "      <th>n_cores</th>\n",
       "      <th>...</th>\n",
       "      <th>px_height</th>\n",
       "      <th>px_width</th>\n",
       "      <th>ram</th>\n",
       "      <th>sc_h</th>\n",
       "      <th>sc_w</th>\n",
       "      <th>talk_time</th>\n",
       "      <th>three_g</th>\n",
       "      <th>touch_screen</th>\n",
       "      <th>wifi</th>\n",
       "      <th>price_range</th>\n",
       "    </tr>\n",
       "  </thead>\n",
       "  <tbody>\n",
       "  </tbody>\n",
       "</table>\n",
       "<p>0 rows × 21 columns</p>\n",
       "</div>"
      ],
      "text/plain": [
       "Empty DataFrame\n",
       "Columns: [battery_power, blue, clock_speed, dual_sim, fc, four_g, int_memory, m_dep, mobile_wt, n_cores, pc, px_height, px_width, ram, sc_h, sc_w, talk_time, three_g, touch_screen, wifi, price_range]\n",
       "Index: []\n",
       "\n",
       "[0 rows x 21 columns]"
      ]
     },
     "execution_count": 79,
     "metadata": {},
     "output_type": "execute_result"
    }
   ],
   "source": [
    "duplicates = mobile_price_data[mobile_price_data.duplicated()]\n",
    "duplicates"
   ]
  },
  {
   "cell_type": "markdown",
   "id": "f4bbda08-7f8c-43cb-9078-46b5b89f7aac",
   "metadata": {},
   "source": [
    "### 1d. Split Data into X/y"
   ]
  },
  {
   "cell_type": "code",
   "execution_count": 80,
   "id": "d7fcb081-6811-4930-8ea1-c3a0cab67143",
   "metadata": {},
   "outputs": [],
   "source": [
    "X = mobile_price_data.drop(\"price_range\", axis=1)\n",
    "y = mobile_price_data[\"price_range\"]"
   ]
  },
  {
   "cell_type": "markdown",
   "id": "dc070a0f-c647-4f6d-91ca-b41017c36076",
   "metadata": {},
   "source": [
    "## 2. choosing the right estimator/algorithm for your problem\n",
    "Using:https://scikit-learn.org/stable/tutorial/machine_learning_map/index.html as a roadmap to picking a model, Our options are:\n",
    "- Linear SVC\n",
    "- KNeighbors Classifier\n",
    "- Ensemble Classifier\n",
    "- SVM\n"
   ]
  },
  {
   "cell_type": "markdown",
   "id": "3ced2cf0-cda3-4538-853f-ca6549a340a1",
   "metadata": {},
   "source": [
    "## 3. Fit the model/algorithm and use it to make predictions on our data"
   ]
  },
  {
   "cell_type": "markdown",
   "id": "ed51aba7-121c-485a-9c8b-e10c08f3ae55",
   "metadata": {},
   "source": [
    "##### 3a. In this step, we split the data into training and testing sets, allocating 80% for training and 20% for testing."
   ]
  },
  {
   "cell_type": "code",
   "execution_count": 81,
   "id": "84baacab-03ff-4d48-9ddd-9706cdc353dc",
   "metadata": {},
   "outputs": [],
   "source": [
    "from sklearn.model_selection import train_test_split\n",
    "X_train, X_test, y_train, y_test = train_test_split(X, y, test_size=0.2)"
   ]
  },
  {
   "cell_type": "markdown",
   "id": "46e09b0a-d4a7-4629-a4ef-59d719906d1f",
   "metadata": {},
   "source": [
    "#### 3b. Linear SVC"
   ]
  },
  {
   "cell_type": "code",
   "execution_count": 82,
   "id": "12868cc7-baa8-4ab5-9350-8f2f1292b30e",
   "metadata": {},
   "outputs": [
    {
     "data": {
      "text/plain": [
       "0.8225"
      ]
     },
     "execution_count": 82,
     "metadata": {},
     "output_type": "execute_result"
    }
   ],
   "source": [
    "from sklearn.svm import LinearSVC\n",
    "\n",
    "#set up random seed\n",
    "np.random.seed(42)\n",
    "linear_svc_clf = LinearSVC(max_iter=10000, dual='auto')\n",
    "linear_svc_clf.fit(X_train, y_train)\n",
    "\n",
    "# Evaluate LinearSVC\n",
    "linear_svc_clf.score(X_test, y_test)"
   ]
  },
  {
   "cell_type": "code",
   "execution_count": 83,
   "id": "9df8b105-1793-4a53-afaa-63a019f995d5",
   "metadata": {},
   "outputs": [
    {
     "name": "stdout",
     "output_type": "stream",
     "text": [
      "Trying LinearSVC with 10 max_iter\n",
      " Model accuracy on test set: 62.50%\n",
      "\n",
      "Trying LinearSVC with 11 max_iter\n",
      " Model accuracy on test set: 63.25%\n",
      "\n",
      "Trying LinearSVC with 12 max_iter\n",
      " Model accuracy on test set: 63.25%\n",
      "\n",
      "Trying LinearSVC with 13 max_iter\n",
      " Model accuracy on test set: 64.75%\n",
      "\n",
      "Trying LinearSVC with 14 max_iter\n",
      " Model accuracy on test set: 64.25%\n",
      "\n",
      "Trying LinearSVC with 15 max_iter\n",
      " Model accuracy on test set: 65.75%\n",
      "\n",
      "Trying LinearSVC with 16 max_iter\n",
      " Model accuracy on test set: 65.50%\n",
      "\n",
      "Trying LinearSVC with 17 max_iter\n",
      " Model accuracy on test set: 66.50%\n",
      "\n",
      "Trying LinearSVC with 18 max_iter\n",
      " Model accuracy on test set: 66.75%\n",
      "\n",
      "Trying LinearSVC with 19 max_iter\n",
      " Model accuracy on test set: 67.00%\n",
      "\n",
      "Trying LinearSVC with 20 max_iter\n",
      " Model accuracy on test set: 67.50%\n",
      "\n",
      "Trying LinearSVC with 21 max_iter\n",
      " Model accuracy on test set: 68.25%\n",
      "\n",
      "Trying LinearSVC with 22 max_iter\n",
      " Model accuracy on test set: 66.75%\n",
      "\n",
      "Trying LinearSVC with 23 max_iter\n",
      " Model accuracy on test set: 68.50%\n",
      "\n",
      "Trying LinearSVC with 24 max_iter\n",
      " Model accuracy on test set: 68.50%\n",
      "\n",
      "Trying LinearSVC with 25 max_iter\n",
      " Model accuracy on test set: 68.50%\n",
      "\n",
      "Trying LinearSVC with 26 max_iter\n",
      " Model accuracy on test set: 72.00%\n",
      "\n",
      "Trying LinearSVC with 27 max_iter\n",
      " Model accuracy on test set: 71.25%\n",
      "\n",
      "Trying LinearSVC with 28 max_iter\n",
      " Model accuracy on test set: 71.25%\n",
      "\n",
      "Trying LinearSVC with 29 max_iter\n",
      " Model accuracy on test set: 69.25%\n",
      "\n",
      "Trying LinearSVC with 30 max_iter\n",
      " Model accuracy on test set: 69.50%\n",
      "\n",
      "Trying LinearSVC with 31 max_iter\n",
      " Model accuracy on test set: 70.50%\n",
      "\n",
      "Trying LinearSVC with 32 max_iter\n",
      " Model accuracy on test set: 71.25%\n",
      "\n",
      "Trying LinearSVC with 33 max_iter\n",
      " Model accuracy on test set: 73.50%\n",
      "\n",
      "Trying LinearSVC with 34 max_iter\n",
      " Model accuracy on test set: 74.25%\n",
      "\n",
      "Trying LinearSVC with 35 max_iter\n",
      " Model accuracy on test set: 71.50%\n",
      "\n",
      "Trying LinearSVC with 36 max_iter\n",
      " Model accuracy on test set: 72.00%\n",
      "\n",
      "Trying LinearSVC with 37 max_iter\n",
      " Model accuracy on test set: 75.50%\n",
      "\n",
      "Trying LinearSVC with 38 max_iter\n",
      " Model accuracy on test set: 75.75%\n",
      "\n",
      "Trying LinearSVC with 39 max_iter\n",
      " Model accuracy on test set: 76.75%\n",
      "\n",
      "Trying LinearSVC with 40 max_iter\n",
      " Model accuracy on test set: 77.75%\n",
      "\n",
      "Trying LinearSVC with 41 max_iter\n",
      " Model accuracy on test set: 77.50%\n",
      "\n",
      "Trying LinearSVC with 42 max_iter\n",
      " Model accuracy on test set: 78.25%\n",
      "\n",
      "Trying LinearSVC with 43 max_iter\n",
      " Model accuracy on test set: 79.25%\n",
      "\n",
      "Trying LinearSVC with 44 max_iter\n",
      " Model accuracy on test set: 79.25%\n",
      "\n",
      "Trying LinearSVC with 45 max_iter\n",
      " Model accuracy on test set: 80.00%\n",
      "\n",
      "Trying LinearSVC with 46 max_iter\n",
      " Model accuracy on test set: 80.25%\n",
      "\n",
      "Trying LinearSVC with 47 max_iter\n",
      " Model accuracy on test set: 80.75%\n",
      "\n",
      "Trying LinearSVC with 48 max_iter\n",
      " Model accuracy on test set: 81.25%\n",
      "\n",
      "Trying LinearSVC with 49 max_iter\n",
      " Model accuracy on test set: 81.75%\n",
      "\n",
      "Trying LinearSVC with 50 max_iter\n",
      " Model accuracy on test set: 81.75%\n",
      "\n",
      "Trying LinearSVC with 51 max_iter\n",
      " Model accuracy on test set: 82.50%\n",
      "\n",
      "Trying LinearSVC with 52 max_iter\n",
      " Model accuracy on test set: 82.50%\n",
      "\n",
      "Trying LinearSVC with 53 max_iter\n",
      " Model accuracy on test set: 82.50%\n",
      "\n",
      "Trying LinearSVC with 54 max_iter\n",
      " Model accuracy on test set: 82.25%\n",
      "\n",
      "Trying LinearSVC with 55 max_iter\n",
      " Model accuracy on test set: 82.25%\n",
      "\n",
      "Trying LinearSVC with 56 max_iter\n",
      " Model accuracy on test set: 82.50%\n",
      "\n",
      "Trying LinearSVC with 57 max_iter\n",
      " Model accuracy on test set: 82.50%\n",
      "\n",
      "Trying LinearSVC with 58 max_iter\n",
      " Model accuracy on test set: 82.25%\n",
      "\n",
      "Trying LinearSVC with 59 max_iter\n",
      " Model accuracy on test set: 82.25%\n",
      "\n",
      "Trying LinearSVC with 60 max_iter\n",
      " Model accuracy on test set: 82.25%\n",
      "\n",
      "Trying LinearSVC with 61 max_iter\n",
      " Model accuracy on test set: 82.25%\n",
      "\n",
      "Trying LinearSVC with 62 max_iter\n",
      " Model accuracy on test set: 82.25%\n",
      "\n",
      "Trying LinearSVC with 63 max_iter\n",
      " Model accuracy on test set: 82.25%\n",
      "\n",
      "Trying LinearSVC with 64 max_iter\n",
      " Model accuracy on test set: 82.25%\n",
      "\n",
      "Trying LinearSVC with 65 max_iter\n",
      " Model accuracy on test set: 82.25%\n",
      "\n",
      "Trying LinearSVC with 66 max_iter\n",
      " Model accuracy on test set: 82.25%\n",
      "\n",
      "Trying LinearSVC with 67 max_iter\n",
      " Model accuracy on test set: 82.25%\n",
      "\n",
      "Trying LinearSVC with 68 max_iter\n",
      " Model accuracy on test set: 82.25%\n",
      "\n",
      "Trying LinearSVC with 69 max_iter\n",
      " Model accuracy on test set: 82.25%\n",
      "\n",
      "Trying LinearSVC with 70 max_iter\n",
      " Model accuracy on test set: 82.25%\n",
      "\n",
      "Trying LinearSVC with 71 max_iter\n",
      " Model accuracy on test set: 82.25%\n",
      "\n",
      "Trying LinearSVC with 72 max_iter\n",
      " Model accuracy on test set: 82.25%\n",
      "\n",
      "Trying LinearSVC with 73 max_iter\n",
      " Model accuracy on test set: 82.25%\n",
      "\n",
      "Trying LinearSVC with 74 max_iter\n",
      " Model accuracy on test set: 82.25%\n",
      "\n",
      "Trying LinearSVC with 75 max_iter\n",
      " Model accuracy on test set: 82.25%\n",
      "\n",
      "Trying LinearSVC with 76 max_iter\n",
      " Model accuracy on test set: 82.25%\n",
      "\n",
      "Trying LinearSVC with 77 max_iter\n",
      " Model accuracy on test set: 82.25%\n",
      "\n",
      "Trying LinearSVC with 78 max_iter\n",
      " Model accuracy on test set: 82.25%\n",
      "\n",
      "Trying LinearSVC with 79 max_iter\n",
      " Model accuracy on test set: 82.25%\n",
      "\n",
      "Trying LinearSVC with 80 max_iter\n",
      " Model accuracy on test set: 82.25%\n",
      "\n",
      "Trying LinearSVC with 81 max_iter\n",
      " Model accuracy on test set: 82.25%\n",
      "\n",
      "Trying LinearSVC with 82 max_iter\n",
      " Model accuracy on test set: 82.25%\n",
      "\n",
      "Trying LinearSVC with 83 max_iter\n",
      " Model accuracy on test set: 82.25%\n",
      "\n",
      "Trying LinearSVC with 84 max_iter\n",
      " Model accuracy on test set: 82.25%\n",
      "\n",
      "Trying LinearSVC with 85 max_iter\n",
      " Model accuracy on test set: 82.25%\n",
      "\n",
      "Trying LinearSVC with 86 max_iter\n",
      " Model accuracy on test set: 82.25%\n",
      "\n",
      "Trying LinearSVC with 87 max_iter\n",
      " Model accuracy on test set: 82.25%\n",
      "\n",
      "Trying LinearSVC with 88 max_iter\n",
      " Model accuracy on test set: 82.25%\n",
      "\n",
      "Trying LinearSVC with 89 max_iter\n",
      " Model accuracy on test set: 82.25%\n",
      "\n",
      "Trying LinearSVC with 90 max_iter\n",
      " Model accuracy on test set: 82.25%\n",
      "\n",
      "Trying LinearSVC with 91 max_iter\n",
      " Model accuracy on test set: 82.25%\n",
      "\n",
      "Trying LinearSVC with 92 max_iter\n",
      " Model accuracy on test set: 82.25%\n",
      "\n",
      "Trying LinearSVC with 93 max_iter\n",
      " Model accuracy on test set: 82.25%\n",
      "\n",
      "Trying LinearSVC with 94 max_iter\n",
      " Model accuracy on test set: 82.25%\n",
      "\n",
      "Trying LinearSVC with 95 max_iter\n",
      " Model accuracy on test set: 82.25%\n",
      "\n",
      "Trying LinearSVC with 96 max_iter\n",
      " Model accuracy on test set: 82.25%\n",
      "\n",
      "Trying LinearSVC with 97 max_iter\n",
      " Model accuracy on test set: 82.25%\n",
      "\n",
      "Trying LinearSVC with 98 max_iter\n",
      " Model accuracy on test set: 82.25%\n",
      "\n",
      "Trying LinearSVC with 99 max_iter\n",
      " Model accuracy on test set: 82.25%\n",
      "\n",
      "highest score is: 0.825  at optimal_max_iter: 51\n"
     ]
    }
   ],
   "source": [
    "np.random.seed(42)\n",
    "highest_score = 0\n",
    "optimal_max_iter = 0\n",
    "for i in range(10, 100, 1):\n",
    "    print(f\"Trying LinearSVC with {i} max_iter\")\n",
    "    linear_svc_clf = LinearSVC(max_iter=i, dual='auto')\n",
    "    linear_svc_clf.fit(X_train, y_train)\n",
    "    score = linear_svc_clf.score(X_test, y_test)\n",
    "    print(f\" Model accuracy on test set: {score*100:.2f}%\")\n",
    "    \n",
    "    if score > highest_score:\n",
    "        highest_score = score\n",
    "        optimal_max_iter = i\n",
    "    \n",
    "    print(\"\")\n",
    "    \n",
    "print(\"highest score is:\", highest_score, \" at optimal_max_iter:\", optimal_max_iter)"
   ]
  },
  {
   "cell_type": "code",
   "execution_count": 84,
   "id": "cbe0514e-0b01-478d-9efb-f8fde31a465c",
   "metadata": {},
   "outputs": [
    {
     "data": {
      "text/plain": [
       "0.8225"
      ]
     },
     "execution_count": 84,
     "metadata": {},
     "output_type": "execute_result"
    }
   ],
   "source": [
    "#set up random seed\n",
    "import warnings\n",
    "warnings.filterwarnings('ignore')\n",
    "np.random.seed(42)\n",
    "final_linear_svc_clf = LinearSVC(max_iter=60, dual='auto')\n",
    "final_linear_svc_clf.fit(X_train, y_train)\n",
    "\n",
    "# Evaluate LinearSVC\n",
    "final_linear_svc_clf.score(X_test, y_test)"
   ]
  },
  {
   "cell_type": "markdown",
   "id": "1b8186e5-da02-4834-8fcb-356fa883ed24",
   "metadata": {},
   "source": [
    "#### 3b. KNeighbors Classifier"
   ]
  },
  {
   "cell_type": "code",
   "execution_count": 85,
   "id": "1203770d-672c-4304-8515-cfa7179fb119",
   "metadata": {},
   "outputs": [
    {
     "data": {
      "text/plain": [
       "0.92"
      ]
     },
     "execution_count": 85,
     "metadata": {},
     "output_type": "execute_result"
    }
   ],
   "source": [
    "from sklearn.neighbors import KNeighborsClassifier\n",
    "\n",
    "knn_classifier = KNeighborsClassifier(n_neighbors=100)\n",
    "knn_classifier.fit(X_train.values, y_train.values)\n",
    "knn_classifier.score(X_test.values, y_test.values)\n"
   ]
  },
  {
   "cell_type": "code",
   "execution_count": 86,
   "id": "c237d9af-622e-44ba-a0db-f0bb6179f0a9",
   "metadata": {},
   "outputs": [
    {
     "name": "stdout",
     "output_type": "stream",
     "text": [
      "Trying KNeighborsClassifier with 1 n_neighbors\n",
      " Model accuracy on test set: 89.75%\n",
      "\n",
      "Trying KNeighborsClassifier with 2 n_neighbors\n",
      " Model accuracy on test set: 89.75%\n",
      "\n",
      "Trying KNeighborsClassifier with 3 n_neighbors\n",
      " Model accuracy on test set: 92.75%\n",
      "\n",
      "Trying KNeighborsClassifier with 4 n_neighbors\n",
      " Model accuracy on test set: 90.00%\n",
      "\n",
      "Trying KNeighborsClassifier with 5 n_neighbors\n",
      " Model accuracy on test set: 93.50%\n",
      "\n",
      "Trying KNeighborsClassifier with 6 n_neighbors\n",
      " Model accuracy on test set: 92.00%\n",
      "\n",
      "Trying KNeighborsClassifier with 7 n_neighbors\n",
      " Model accuracy on test set: 93.00%\n",
      "\n",
      "Trying KNeighborsClassifier with 8 n_neighbors\n",
      " Model accuracy on test set: 93.25%\n",
      "\n",
      "Trying KNeighborsClassifier with 9 n_neighbors\n",
      " Model accuracy on test set: 93.00%\n",
      "\n",
      "Trying KNeighborsClassifier with 10 n_neighbors\n",
      " Model accuracy on test set: 93.75%\n",
      "\n",
      "Trying KNeighborsClassifier with 11 n_neighbors\n",
      " Model accuracy on test set: 93.25%\n",
      "\n",
      "Trying KNeighborsClassifier with 12 n_neighbors\n",
      " Model accuracy on test set: 93.75%\n",
      "\n",
      "Trying KNeighborsClassifier with 13 n_neighbors\n",
      " Model accuracy on test set: 93.50%\n",
      "\n",
      "Trying KNeighborsClassifier with 14 n_neighbors\n",
      " Model accuracy on test set: 93.75%\n",
      "\n",
      "Trying KNeighborsClassifier with 15 n_neighbors\n",
      " Model accuracy on test set: 94.25%\n",
      "\n",
      "Trying KNeighborsClassifier with 16 n_neighbors\n",
      " Model accuracy on test set: 94.00%\n",
      "\n",
      "Trying KNeighborsClassifier with 17 n_neighbors\n",
      " Model accuracy on test set: 93.25%\n",
      "\n",
      "Trying KNeighborsClassifier with 18 n_neighbors\n",
      " Model accuracy on test set: 94.00%\n",
      "\n",
      "Trying KNeighborsClassifier with 19 n_neighbors\n",
      " Model accuracy on test set: 93.50%\n",
      "\n",
      "Trying KNeighborsClassifier with 20 n_neighbors\n",
      " Model accuracy on test set: 93.75%\n",
      "\n",
      "Trying KNeighborsClassifier with 21 n_neighbors\n",
      " Model accuracy on test set: 94.50%\n",
      "\n",
      "Trying KNeighborsClassifier with 22 n_neighbors\n",
      " Model accuracy on test set: 94.25%\n",
      "\n",
      "Trying KNeighborsClassifier with 23 n_neighbors\n",
      " Model accuracy on test set: 94.75%\n",
      "\n",
      "Trying KNeighborsClassifier with 24 n_neighbors\n",
      " Model accuracy on test set: 93.75%\n",
      "\n",
      "Trying KNeighborsClassifier with 25 n_neighbors\n",
      " Model accuracy on test set: 95.25%\n",
      "\n",
      "Trying KNeighborsClassifier with 26 n_neighbors\n",
      " Model accuracy on test set: 94.25%\n",
      "\n",
      "Trying KNeighborsClassifier with 27 n_neighbors\n",
      " Model accuracy on test set: 94.25%\n",
      "\n",
      "Trying KNeighborsClassifier with 28 n_neighbors\n",
      " Model accuracy on test set: 93.75%\n",
      "\n",
      "Trying KNeighborsClassifier with 29 n_neighbors\n",
      " Model accuracy on test set: 94.25%\n",
      "\n",
      "Trying KNeighborsClassifier with 30 n_neighbors\n",
      " Model accuracy on test set: 93.75%\n",
      "\n",
      "Trying KNeighborsClassifier with 31 n_neighbors\n",
      " Model accuracy on test set: 94.50%\n",
      "\n",
      "Trying KNeighborsClassifier with 32 n_neighbors\n",
      " Model accuracy on test set: 93.25%\n",
      "\n",
      "Trying KNeighborsClassifier with 33 n_neighbors\n",
      " Model accuracy on test set: 93.75%\n",
      "\n",
      "Trying KNeighborsClassifier with 34 n_neighbors\n",
      " Model accuracy on test set: 93.25%\n",
      "\n",
      "Trying KNeighborsClassifier with 35 n_neighbors\n",
      " Model accuracy on test set: 93.50%\n",
      "\n",
      "Trying KNeighborsClassifier with 36 n_neighbors\n",
      " Model accuracy on test set: 93.50%\n",
      "\n",
      "Trying KNeighborsClassifier with 37 n_neighbors\n",
      " Model accuracy on test set: 93.25%\n",
      "\n",
      "Trying KNeighborsClassifier with 38 n_neighbors\n",
      " Model accuracy on test set: 93.50%\n",
      "\n",
      "Trying KNeighborsClassifier with 39 n_neighbors\n",
      " Model accuracy on test set: 93.75%\n",
      "\n",
      "Trying KNeighborsClassifier with 40 n_neighbors\n",
      " Model accuracy on test set: 94.00%\n",
      "\n",
      "Trying KNeighborsClassifier with 41 n_neighbors\n",
      " Model accuracy on test set: 93.25%\n",
      "\n",
      "Trying KNeighborsClassifier with 42 n_neighbors\n",
      " Model accuracy on test set: 93.75%\n",
      "\n",
      "Trying KNeighborsClassifier with 43 n_neighbors\n",
      " Model accuracy on test set: 93.50%\n",
      "\n",
      "Trying KNeighborsClassifier with 44 n_neighbors\n",
      " Model accuracy on test set: 94.00%\n",
      "\n",
      "Trying KNeighborsClassifier with 45 n_neighbors\n",
      " Model accuracy on test set: 93.25%\n",
      "\n",
      "Trying KNeighborsClassifier with 46 n_neighbors\n",
      " Model accuracy on test set: 93.25%\n",
      "\n",
      "Trying KNeighborsClassifier with 47 n_neighbors\n",
      " Model accuracy on test set: 93.25%\n",
      "\n",
      "Trying KNeighborsClassifier with 48 n_neighbors\n",
      " Model accuracy on test set: 93.75%\n",
      "\n",
      "Trying KNeighborsClassifier with 49 n_neighbors\n",
      " Model accuracy on test set: 93.25%\n",
      "\n",
      "Trying KNeighborsClassifier with 50 n_neighbors\n",
      " Model accuracy on test set: 93.00%\n",
      "\n",
      "Trying KNeighborsClassifier with 51 n_neighbors\n",
      " Model accuracy on test set: 93.00%\n",
      "\n",
      "Trying KNeighborsClassifier with 52 n_neighbors\n",
      " Model accuracy on test set: 93.25%\n",
      "\n",
      "Trying KNeighborsClassifier with 53 n_neighbors\n",
      " Model accuracy on test set: 92.50%\n",
      "\n",
      "Trying KNeighborsClassifier with 54 n_neighbors\n",
      " Model accuracy on test set: 92.75%\n",
      "\n",
      "Trying KNeighborsClassifier with 55 n_neighbors\n",
      " Model accuracy on test set: 92.25%\n",
      "\n",
      "Trying KNeighborsClassifier with 56 n_neighbors\n",
      " Model accuracy on test set: 92.50%\n",
      "\n",
      "Trying KNeighborsClassifier with 57 n_neighbors\n",
      " Model accuracy on test set: 92.00%\n",
      "\n",
      "Trying KNeighborsClassifier with 58 n_neighbors\n",
      " Model accuracy on test set: 92.25%\n",
      "\n",
      "Trying KNeighborsClassifier with 59 n_neighbors\n",
      " Model accuracy on test set: 91.75%\n",
      "\n",
      "Trying KNeighborsClassifier with 60 n_neighbors\n",
      " Model accuracy on test set: 91.00%\n",
      "\n",
      "Trying KNeighborsClassifier with 61 n_neighbors\n",
      " Model accuracy on test set: 92.00%\n",
      "\n",
      "Trying KNeighborsClassifier with 62 n_neighbors\n",
      " Model accuracy on test set: 92.25%\n",
      "\n",
      "Trying KNeighborsClassifier with 63 n_neighbors\n",
      " Model accuracy on test set: 92.75%\n",
      "\n",
      "Trying KNeighborsClassifier with 64 n_neighbors\n",
      " Model accuracy on test set: 92.00%\n",
      "\n",
      "Trying KNeighborsClassifier with 65 n_neighbors\n",
      " Model accuracy on test set: 92.75%\n",
      "\n",
      "Trying KNeighborsClassifier with 66 n_neighbors\n",
      " Model accuracy on test set: 92.25%\n",
      "\n",
      "Trying KNeighborsClassifier with 67 n_neighbors\n",
      " Model accuracy on test set: 92.00%\n",
      "\n",
      "Trying KNeighborsClassifier with 68 n_neighbors\n",
      " Model accuracy on test set: 92.25%\n",
      "\n",
      "Trying KNeighborsClassifier with 69 n_neighbors\n",
      " Model accuracy on test set: 92.25%\n",
      "\n",
      "Trying KNeighborsClassifier with 70 n_neighbors\n",
      " Model accuracy on test set: 92.00%\n",
      "\n",
      "Trying KNeighborsClassifier with 71 n_neighbors\n",
      " Model accuracy on test set: 92.50%\n",
      "\n",
      "Trying KNeighborsClassifier with 72 n_neighbors\n",
      " Model accuracy on test set: 92.25%\n",
      "\n",
      "Trying KNeighborsClassifier with 73 n_neighbors\n",
      " Model accuracy on test set: 92.25%\n",
      "\n",
      "Trying KNeighborsClassifier with 74 n_neighbors\n",
      " Model accuracy on test set: 92.50%\n",
      "\n",
      "Trying KNeighborsClassifier with 75 n_neighbors\n",
      " Model accuracy on test set: 92.50%\n",
      "\n",
      "Trying KNeighborsClassifier with 76 n_neighbors\n",
      " Model accuracy on test set: 92.75%\n",
      "\n",
      "Trying KNeighborsClassifier with 77 n_neighbors\n",
      " Model accuracy on test set: 93.00%\n",
      "\n",
      "Trying KNeighborsClassifier with 78 n_neighbors\n",
      " Model accuracy on test set: 92.25%\n",
      "\n",
      "Trying KNeighborsClassifier with 79 n_neighbors\n",
      " Model accuracy on test set: 92.75%\n",
      "\n",
      "Trying KNeighborsClassifier with 80 n_neighbors\n",
      " Model accuracy on test set: 92.00%\n",
      "\n",
      "Trying KNeighborsClassifier with 81 n_neighbors\n",
      " Model accuracy on test set: 92.00%\n",
      "\n",
      "Trying KNeighborsClassifier with 82 n_neighbors\n",
      " Model accuracy on test set: 92.00%\n",
      "\n",
      "Trying KNeighborsClassifier with 83 n_neighbors\n",
      " Model accuracy on test set: 92.00%\n",
      "\n",
      "Trying KNeighborsClassifier with 84 n_neighbors\n",
      " Model accuracy on test set: 92.25%\n",
      "\n",
      "Trying KNeighborsClassifier with 85 n_neighbors\n",
      " Model accuracy on test set: 92.25%\n",
      "\n",
      "Trying KNeighborsClassifier with 86 n_neighbors\n",
      " Model accuracy on test set: 92.00%\n",
      "\n",
      "Trying KNeighborsClassifier with 87 n_neighbors\n",
      " Model accuracy on test set: 92.25%\n",
      "\n",
      "Trying KNeighborsClassifier with 88 n_neighbors\n",
      " Model accuracy on test set: 92.25%\n",
      "\n",
      "Trying KNeighborsClassifier with 89 n_neighbors\n",
      " Model accuracy on test set: 92.50%\n",
      "\n",
      "Trying KNeighborsClassifier with 90 n_neighbors\n",
      " Model accuracy on test set: 92.00%\n",
      "\n",
      "Trying KNeighborsClassifier with 91 n_neighbors\n",
      " Model accuracy on test set: 92.25%\n",
      "\n",
      "Trying KNeighborsClassifier with 92 n_neighbors\n",
      " Model accuracy on test set: 92.25%\n",
      "\n",
      "Trying KNeighborsClassifier with 93 n_neighbors\n",
      " Model accuracy on test set: 92.00%\n",
      "\n",
      "Trying KNeighborsClassifier with 94 n_neighbors\n",
      " Model accuracy on test set: 91.75%\n",
      "\n",
      "Trying KNeighborsClassifier with 95 n_neighbors\n",
      " Model accuracy on test set: 91.50%\n",
      "\n",
      "Trying KNeighborsClassifier with 96 n_neighbors\n",
      " Model accuracy on test set: 91.50%\n",
      "\n",
      "Trying KNeighborsClassifier with 97 n_neighbors\n",
      " Model accuracy on test set: 91.25%\n",
      "\n",
      "Trying KNeighborsClassifier with 98 n_neighbors\n",
      " Model accuracy on test set: 91.50%\n",
      "\n",
      "Trying KNeighborsClassifier with 99 n_neighbors\n",
      " Model accuracy on test set: 91.25%\n",
      "\n",
      "highest score is: 0.9525  at n_neighbors: 25\n"
     ]
    }
   ],
   "source": [
    "np.random.seed(42)\n",
    "highest_score = 0\n",
    "most_optimal_n_neighbors = 0\n",
    "for i in range(1, 100, 1):\n",
    "    print(f\"Trying KNeighborsClassifier with {i} n_neighbors\")\n",
    "    knn_classifier = KNeighborsClassifier(n_neighbors=i)\n",
    "    knn_classifier.fit(X_train.values, y_train.values)\n",
    "    score = knn_classifier.score(X_test.values, y_test.values)\n",
    "    print(f\" Model accuracy on test set: {score*100:.2f}%\")\n",
    "    if score > highest_score:\n",
    "        highest_score = score\n",
    "        most_optimal_n_neighbors = i\n",
    "\n",
    "    \n",
    "    print(\"\")\n",
    "print(\"highest score is:\", highest_score, \" at n_neighbors:\", most_optimal_n_neighbors)"
   ]
  },
  {
   "cell_type": "code",
   "execution_count": 87,
   "id": "a3236bc6-0d09-45d4-bc7d-e9b28f63fd77",
   "metadata": {},
   "outputs": [
    {
     "data": {
      "text/plain": [
       "0.9325"
      ]
     },
     "execution_count": 87,
     "metadata": {},
     "output_type": "execute_result"
    }
   ],
   "source": [
    "np.random.seed(42)\n",
    "final_knn_classifier = KNeighborsClassifier(n_neighbors=11)\n",
    "final_knn_classifier.fit(X_train.values, y_train.values)\n",
    "final_knn_classifier.score(X_test.values, y_test.values)"
   ]
  },
  {
   "cell_type": "markdown",
   "id": "aa8652ab-02c4-47de-ae1e-12e5fe223cb2",
   "metadata": {},
   "source": [
    "#### 3c. Ensemble Classifier"
   ]
  },
  {
   "cell_type": "code",
   "execution_count": 88,
   "id": "c02aa957-72b7-4335-8e7e-8490e9a38109",
   "metadata": {},
   "outputs": [
    {
     "data": {
      "text/plain": [
       "0.89"
      ]
     },
     "execution_count": 88,
     "metadata": {},
     "output_type": "execute_result"
    }
   ],
   "source": [
    "from sklearn.ensemble import RandomForestClassifier\n",
    "\n",
    "np.random.seed(42)\n",
    "\n",
    "random_forest_classifier_model =  RandomForestClassifier(n_estimators=100)\n",
    "random_forest_classifier_model.fit(X_train, y_train)\n",
    "\n",
    "# Check score of model\n",
    "random_forest_classifier_model.score(X_test, y_test)"
   ]
  },
  {
   "cell_type": "code",
   "execution_count": 89,
   "id": "e7772b50-d841-4465-b0ee-7d18bf20681f",
   "metadata": {},
   "outputs": [
    {
     "name": "stdout",
     "output_type": "stream",
     "text": [
      "Trying RandomForestClassifier with 1 n_estimators\n",
      " Model accuracy on test set: 61.00%\n",
      "\n",
      "Trying RandomForestClassifier with 2 n_estimators\n",
      " Model accuracy on test set: 57.00%\n",
      "\n",
      "Trying RandomForestClassifier with 3 n_estimators\n",
      " Model accuracy on test set: 59.00%\n",
      "\n",
      "Trying RandomForestClassifier with 4 n_estimators\n",
      " Model accuracy on test set: 68.75%\n",
      "\n",
      "Trying RandomForestClassifier with 5 n_estimators\n",
      " Model accuracy on test set: 72.25%\n",
      "\n",
      "Trying RandomForestClassifier with 6 n_estimators\n",
      " Model accuracy on test set: 76.00%\n",
      "\n",
      "Trying RandomForestClassifier with 7 n_estimators\n",
      " Model accuracy on test set: 79.50%\n",
      "\n",
      "Trying RandomForestClassifier with 8 n_estimators\n",
      " Model accuracy on test set: 73.50%\n",
      "\n",
      "Trying RandomForestClassifier with 9 n_estimators\n",
      " Model accuracy on test set: 82.00%\n",
      "\n",
      "Trying RandomForestClassifier with 10 n_estimators\n",
      " Model accuracy on test set: 79.00%\n",
      "\n",
      "Trying RandomForestClassifier with 11 n_estimators\n",
      " Model accuracy on test set: 84.50%\n",
      "\n",
      "Trying RandomForestClassifier with 12 n_estimators\n",
      " Model accuracy on test set: 81.75%\n",
      "\n",
      "Trying RandomForestClassifier with 13 n_estimators\n",
      " Model accuracy on test set: 83.25%\n",
      "\n",
      "Trying RandomForestClassifier with 14 n_estimators\n",
      " Model accuracy on test set: 80.75%\n",
      "\n",
      "Trying RandomForestClassifier with 15 n_estimators\n",
      " Model accuracy on test set: 82.00%\n",
      "\n",
      "Trying RandomForestClassifier with 16 n_estimators\n",
      " Model accuracy on test set: 83.00%\n",
      "\n",
      "Trying RandomForestClassifier with 17 n_estimators\n",
      " Model accuracy on test set: 81.75%\n",
      "\n",
      "Trying RandomForestClassifier with 18 n_estimators\n",
      " Model accuracy on test set: 85.00%\n",
      "\n",
      "Trying RandomForestClassifier with 19 n_estimators\n",
      " Model accuracy on test set: 85.00%\n",
      "\n",
      "Trying RandomForestClassifier with 20 n_estimators\n",
      " Model accuracy on test set: 84.50%\n",
      "\n",
      "Trying RandomForestClassifier with 21 n_estimators\n",
      " Model accuracy on test set: 84.25%\n",
      "\n",
      "Trying RandomForestClassifier with 22 n_estimators\n",
      " Model accuracy on test set: 87.00%\n",
      "\n",
      "Trying RandomForestClassifier with 23 n_estimators\n",
      " Model accuracy on test set: 84.50%\n",
      "\n",
      "Trying RandomForestClassifier with 24 n_estimators\n",
      " Model accuracy on test set: 83.50%\n",
      "\n",
      "Trying RandomForestClassifier with 25 n_estimators\n",
      " Model accuracy on test set: 84.50%\n",
      "\n",
      "Trying RandomForestClassifier with 26 n_estimators\n",
      " Model accuracy on test set: 87.50%\n",
      "\n",
      "Trying RandomForestClassifier with 27 n_estimators\n",
      " Model accuracy on test set: 86.25%\n",
      "\n",
      "Trying RandomForestClassifier with 28 n_estimators\n",
      " Model accuracy on test set: 86.25%\n",
      "\n",
      "Trying RandomForestClassifier with 29 n_estimators\n",
      " Model accuracy on test set: 87.50%\n",
      "\n",
      "Trying RandomForestClassifier with 30 n_estimators\n",
      " Model accuracy on test set: 85.25%\n",
      "\n",
      "Trying RandomForestClassifier with 31 n_estimators\n",
      " Model accuracy on test set: 83.50%\n",
      "\n",
      "Trying RandomForestClassifier with 32 n_estimators\n",
      " Model accuracy on test set: 86.00%\n",
      "\n",
      "Trying RandomForestClassifier with 33 n_estimators\n",
      " Model accuracy on test set: 86.25%\n",
      "\n",
      "Trying RandomForestClassifier with 34 n_estimators\n",
      " Model accuracy on test set: 87.25%\n",
      "\n",
      "Trying RandomForestClassifier with 35 n_estimators\n",
      " Model accuracy on test set: 87.00%\n",
      "\n",
      "Trying RandomForestClassifier with 36 n_estimators\n",
      " Model accuracy on test set: 88.25%\n",
      "\n",
      "Trying RandomForestClassifier with 37 n_estimators\n",
      " Model accuracy on test set: 88.00%\n",
      "\n",
      "Trying RandomForestClassifier with 38 n_estimators\n",
      " Model accuracy on test set: 88.00%\n",
      "\n",
      "Trying RandomForestClassifier with 39 n_estimators\n",
      " Model accuracy on test set: 87.75%\n",
      "\n",
      "Trying RandomForestClassifier with 40 n_estimators\n",
      " Model accuracy on test set: 87.00%\n",
      "\n",
      "Trying RandomForestClassifier with 41 n_estimators\n",
      " Model accuracy on test set: 87.50%\n",
      "\n",
      "Trying RandomForestClassifier with 42 n_estimators\n",
      " Model accuracy on test set: 85.50%\n",
      "\n",
      "Trying RandomForestClassifier with 43 n_estimators\n",
      " Model accuracy on test set: 87.00%\n",
      "\n",
      "Trying RandomForestClassifier with 44 n_estimators\n",
      " Model accuracy on test set: 87.75%\n",
      "\n",
      "Trying RandomForestClassifier with 45 n_estimators\n",
      " Model accuracy on test set: 86.00%\n",
      "\n",
      "Trying RandomForestClassifier with 46 n_estimators\n",
      " Model accuracy on test set: 87.50%\n",
      "\n",
      "Trying RandomForestClassifier with 47 n_estimators\n",
      " Model accuracy on test set: 86.25%\n",
      "\n",
      "Trying RandomForestClassifier with 48 n_estimators\n",
      " Model accuracy on test set: 86.50%\n",
      "\n",
      "Trying RandomForestClassifier with 49 n_estimators\n",
      " Model accuracy on test set: 85.75%\n",
      "\n",
      "Trying RandomForestClassifier with 50 n_estimators\n",
      " Model accuracy on test set: 89.75%\n",
      "\n",
      "Trying RandomForestClassifier with 51 n_estimators\n",
      " Model accuracy on test set: 87.75%\n",
      "\n",
      "Trying RandomForestClassifier with 52 n_estimators\n",
      " Model accuracy on test set: 87.75%\n",
      "\n",
      "Trying RandomForestClassifier with 53 n_estimators\n",
      " Model accuracy on test set: 85.75%\n",
      "\n",
      "Trying RandomForestClassifier with 54 n_estimators\n",
      " Model accuracy on test set: 88.50%\n",
      "\n",
      "Trying RandomForestClassifier with 55 n_estimators\n",
      " Model accuracy on test set: 87.75%\n",
      "\n",
      "Trying RandomForestClassifier with 56 n_estimators\n",
      " Model accuracy on test set: 87.50%\n",
      "\n",
      "Trying RandomForestClassifier with 57 n_estimators\n",
      " Model accuracy on test set: 86.75%\n",
      "\n",
      "Trying RandomForestClassifier with 58 n_estimators\n",
      " Model accuracy on test set: 86.50%\n",
      "\n",
      "Trying RandomForestClassifier with 59 n_estimators\n",
      " Model accuracy on test set: 86.50%\n",
      "\n",
      "Trying RandomForestClassifier with 60 n_estimators\n",
      " Model accuracy on test set: 86.75%\n",
      "\n",
      "Trying RandomForestClassifier with 61 n_estimators\n",
      " Model accuracy on test set: 87.00%\n",
      "\n",
      "Trying RandomForestClassifier with 62 n_estimators\n",
      " Model accuracy on test set: 86.50%\n",
      "\n",
      "Trying RandomForestClassifier with 63 n_estimators\n",
      " Model accuracy on test set: 89.00%\n",
      "\n",
      "Trying RandomForestClassifier with 64 n_estimators\n",
      " Model accuracy on test set: 86.00%\n",
      "\n",
      "Trying RandomForestClassifier with 65 n_estimators\n",
      " Model accuracy on test set: 88.75%\n",
      "\n",
      "Trying RandomForestClassifier with 66 n_estimators\n",
      " Model accuracy on test set: 87.75%\n",
      "\n",
      "Trying RandomForestClassifier with 67 n_estimators\n",
      " Model accuracy on test set: 87.75%\n",
      "\n",
      "Trying RandomForestClassifier with 68 n_estimators\n",
      " Model accuracy on test set: 89.00%\n",
      "\n",
      "Trying RandomForestClassifier with 69 n_estimators\n",
      " Model accuracy on test set: 86.50%\n",
      "\n",
      "Trying RandomForestClassifier with 70 n_estimators\n",
      " Model accuracy on test set: 88.00%\n",
      "\n",
      "Trying RandomForestClassifier with 71 n_estimators\n",
      " Model accuracy on test set: 87.75%\n",
      "\n",
      "Trying RandomForestClassifier with 72 n_estimators\n",
      " Model accuracy on test set: 87.75%\n",
      "\n",
      "Trying RandomForestClassifier with 73 n_estimators\n",
      " Model accuracy on test set: 86.75%\n",
      "\n",
      "Trying RandomForestClassifier with 74 n_estimators\n",
      " Model accuracy on test set: 88.00%\n",
      "\n",
      "Trying RandomForestClassifier with 75 n_estimators\n",
      " Model accuracy on test set: 87.50%\n",
      "\n",
      "Trying RandomForestClassifier with 76 n_estimators\n",
      " Model accuracy on test set: 87.75%\n",
      "\n",
      "Trying RandomForestClassifier with 77 n_estimators\n",
      " Model accuracy on test set: 87.00%\n",
      "\n",
      "Trying RandomForestClassifier with 78 n_estimators\n",
      " Model accuracy on test set: 88.00%\n",
      "\n",
      "Trying RandomForestClassifier with 79 n_estimators\n",
      " Model accuracy on test set: 87.50%\n",
      "\n",
      "Trying RandomForestClassifier with 80 n_estimators\n",
      " Model accuracy on test set: 87.25%\n",
      "\n",
      "Trying RandomForestClassifier with 81 n_estimators\n",
      " Model accuracy on test set: 88.75%\n",
      "\n",
      "Trying RandomForestClassifier with 82 n_estimators\n",
      " Model accuracy on test set: 87.50%\n",
      "\n",
      "Trying RandomForestClassifier with 83 n_estimators\n",
      " Model accuracy on test set: 88.25%\n",
      "\n",
      "Trying RandomForestClassifier with 84 n_estimators\n",
      " Model accuracy on test set: 87.25%\n",
      "\n",
      "Trying RandomForestClassifier with 85 n_estimators\n",
      " Model accuracy on test set: 89.50%\n",
      "\n",
      "Trying RandomForestClassifier with 86 n_estimators\n",
      " Model accuracy on test set: 88.00%\n",
      "\n",
      "Trying RandomForestClassifier with 87 n_estimators\n",
      " Model accuracy on test set: 87.50%\n",
      "\n",
      "Trying RandomForestClassifier with 88 n_estimators\n",
      " Model accuracy on test set: 86.75%\n",
      "\n",
      "Trying RandomForestClassifier with 89 n_estimators\n",
      " Model accuracy on test set: 86.25%\n",
      "\n",
      "Trying RandomForestClassifier with 90 n_estimators\n",
      " Model accuracy on test set: 87.75%\n",
      "\n",
      "Trying RandomForestClassifier with 91 n_estimators\n",
      " Model accuracy on test set: 90.00%\n",
      "\n",
      "Trying RandomForestClassifier with 92 n_estimators\n",
      " Model accuracy on test set: 89.75%\n",
      "\n",
      "Trying RandomForestClassifier with 93 n_estimators\n",
      " Model accuracy on test set: 87.75%\n",
      "\n",
      "Trying RandomForestClassifier with 94 n_estimators\n",
      " Model accuracy on test set: 88.00%\n",
      "\n",
      "Trying RandomForestClassifier with 95 n_estimators\n",
      " Model accuracy on test set: 87.25%\n",
      "\n",
      "Trying RandomForestClassifier with 96 n_estimators\n",
      " Model accuracy on test set: 87.50%\n",
      "\n",
      "Trying RandomForestClassifier with 97 n_estimators\n",
      " Model accuracy on test set: 86.00%\n",
      "\n",
      "Trying RandomForestClassifier with 98 n_estimators\n",
      " Model accuracy on test set: 89.25%\n",
      "\n",
      "Trying RandomForestClassifier with 99 n_estimators\n",
      " Model accuracy on test set: 87.25%\n",
      "\n",
      "highest score is: 0.9 at n_estimators: 91\n"
     ]
    }
   ],
   "source": [
    "np.random.seed(42)\n",
    "highest_score = 0\n",
    "optimal_n_estimators = 0\n",
    "for i in range(1, 100, 1):\n",
    "    print(f\"Trying RandomForestClassifier with {i} n_estimators\")\n",
    "    random_forest_classifier_model = RandomForestClassifier(n_estimators=i)\n",
    "    random_forest_classifier_model.fit(X_train, y_train)\n",
    "    score = random_forest_classifier_model.score(X_test, y_test)\n",
    "    print(f\" Model accuracy on test set: {score*100:.2f}%\")\n",
    "    if score > highest_score:\n",
    "        highest_score = score\n",
    "        optimal_n_estimators=i\n",
    "    \n",
    "    print(\"\")\n",
    "print(\"highest score is:\", highest_score, \"at n_estimators:\", optimal_n_estimators)"
   ]
  },
  {
   "cell_type": "code",
   "execution_count": 90,
   "id": "3013a521-26a5-4d64-a489-cc6464818d53",
   "metadata": {},
   "outputs": [
    {
     "data": {
      "text/plain": [
       "0.8875"
      ]
     },
     "execution_count": 90,
     "metadata": {},
     "output_type": "execute_result"
    }
   ],
   "source": [
    "np.random.seed(42)\n",
    "\n",
    "final_random_forest_classifier_model =  RandomForestClassifier(n_estimators=98)\n",
    "final_random_forest_classifier_model.fit(X_train, y_train)\n",
    "final_random_forest_classifier_model.score(X_test, y_test)"
   ]
  },
  {
   "cell_type": "code",
   "execution_count": 91,
   "id": "76709475-6faa-4910-9a29-723a6579871f",
   "metadata": {},
   "outputs": [
    {
     "data": {
      "text/plain": [
       "0.9775"
      ]
     },
     "execution_count": 91,
     "metadata": {},
     "output_type": "execute_result"
    }
   ],
   "source": [
    "from sklearn import svm\n",
    "svc = svm.SVC(kernel='linear')\n",
    "svc.fit(X_train, y_train)\n",
    "svc.score(X_test, y_test)"
   ]
  },
  {
   "cell_type": "markdown",
   "id": "c99b8d94-cddc-4671-a2e6-b4b62200310e",
   "metadata": {},
   "source": [
    "#### Model Ranking Based on Score\n",
    "\n",
    "1. `svc`: 0.9825\n",
    "2. `final_knn_classifier`: 0.93\n",
    "3. `final_random_forest_classifier_model`: 0.88\n",
    "4. `final_linear_svc_clf`: 0.7875\n"
   ]
  },
  {
   "cell_type": "markdown",
   "id": "0d36483f-729f-46f4-8151-9a0cd4340d90",
   "metadata": {},
   "source": [
    "## 4. Evaluating a model\n"
   ]
  },
  {
   "cell_type": "markdown",
   "id": "3d05879e-912c-4dcb-ac7f-8da59b4651e3",
   "metadata": {},
   "source": [
    "#### 4.1 Make predictions"
   ]
  },
  {
   "cell_type": "code",
   "execution_count": 92,
   "id": "9d3f8f1a-4d2a-49ee-a861-6b600110bf5a",
   "metadata": {},
   "outputs": [
    {
     "data": {
      "text/plain": [
       "0.8875"
      ]
     },
     "execution_count": 92,
     "metadata": {},
     "output_type": "execute_result"
    }
   ],
   "source": [
    "y_preds_final_random_forest_classifier_model =final_random_forest_classifier_model.predict(X_test)\n",
    "np.mean(y_preds_final_random_forest_classifier_model == y_test)"
   ]
  },
  {
   "cell_type": "code",
   "execution_count": 93,
   "id": "50ea0e55-262e-41c6-8133-2e96bf4f76f1",
   "metadata": {},
   "outputs": [
    {
     "data": {
      "text/plain": [
       "0.8225"
      ]
     },
     "execution_count": 93,
     "metadata": {},
     "output_type": "execute_result"
    }
   ],
   "source": [
    "y_preds_final_linear_svc_clf = final_linear_svc_clf.predict(X_test)\n",
    "np.mean(y_preds_final_linear_svc_clf == y_test)"
   ]
  },
  {
   "cell_type": "code",
   "execution_count": 94,
   "id": "5b297fb3-027d-424d-9889-390e88ce6239",
   "metadata": {},
   "outputs": [
    {
     "data": {
      "text/plain": [
       "0.9325"
      ]
     },
     "execution_count": 94,
     "metadata": {},
     "output_type": "execute_result"
    }
   ],
   "source": [
    "y_preds_final_knn_classifier = final_knn_classifier.predict(X_test.values)\n",
    "np.mean(y_preds_final_knn_classifier == y_test)"
   ]
  },
  {
   "cell_type": "code",
   "execution_count": 95,
   "id": "62329321-b356-4869-87c6-471659dbd1e8",
   "metadata": {},
   "outputs": [
    {
     "data": {
      "text/plain": [
       "0.9775"
      ]
     },
     "execution_count": 95,
     "metadata": {},
     "output_type": "execute_result"
    }
   ],
   "source": [
    "y_preds_svc = svc.predict(X_test)\n",
    "np.mean(y_preds_svc == y_test)"
   ]
  },
  {
   "cell_type": "markdown",
   "id": "e906e2b3-dabf-45d2-b162-49de747672ad",
   "metadata": {},
   "source": [
    "#### Model Ranking Based on Prediction\n",
    "\n",
    "1. `svc`: 0.9825\n",
    "2. `final_knn_classifier`: 0.93\n",
    "3. `final_random_forest_classifier_model`: 0.88\n",
    "4. `final_linear_svc_clf`: 0.7875\n"
   ]
  },
  {
   "cell_type": "markdown",
   "id": "70a3bfde-ebd4-47c2-8d8b-1956f106490e",
   "metadata": {},
   "source": [
    "#### 4.2 Make cross evaluation"
   ]
  },
  {
   "cell_type": "code",
   "execution_count": 96,
   "id": "52b2df3f-cb59-4558-a9a5-0400c2fe01a2",
   "metadata": {},
   "outputs": [
    {
     "data": {
      "text/plain": [
       "0.8755"
      ]
     },
     "execution_count": 96,
     "metadata": {},
     "output_type": "execute_result"
    }
   ],
   "source": [
    "from sklearn.model_selection import cross_val_score\n",
    "warnings.filterwarnings('ignore')\n",
    "np.random.seed(42)\n",
    "cross_value_score_for_final_random_forest_classifier_model = cross_val_score(final_random_forest_classifier_model, X, y, scoring='accuracy')\n",
    "np.mean(cross_value_score_for_final_random_forest_classifier_model)"
   ]
  },
  {
   "cell_type": "code",
   "execution_count": 97,
   "id": "af24df48-94ad-445f-a3cc-300ecd5043f6",
   "metadata": {},
   "outputs": [
    {
     "data": {
      "text/plain": [
       "0.804"
      ]
     },
     "execution_count": 97,
     "metadata": {},
     "output_type": "execute_result"
    }
   ],
   "source": [
    "warnings.filterwarnings('ignore')\n",
    "np.random.seed(42)\n",
    "\n",
    "cross_value_score_for_final_linear_svc_clf = cross_val_score(final_linear_svc_clf, X, y, scoring='accuracy')\n",
    "np.mean(cross_value_score_for_final_linear_svc_clf)"
   ]
  },
  {
   "cell_type": "code",
   "execution_count": 98,
   "id": "7d343bb4-871b-4d92-9f63-ab025f107777",
   "metadata": {},
   "outputs": [
    {
     "data": {
      "text/plain": [
       "0.9385"
      ]
     },
     "execution_count": 98,
     "metadata": {},
     "output_type": "execute_result"
    }
   ],
   "source": [
    "warnings.filterwarnings('ignore')\n",
    "np.random.seed(42)\n",
    "\n",
    "cross_value_score_for_final_knn_classifier = cross_val_score(final_knn_classifier, X.values, y.values, scoring='accuracy')\n",
    "np.mean(cross_value_score_for_final_knn_classifier)"
   ]
  },
  {
   "cell_type": "code",
   "execution_count": 99,
   "id": "a5a2e9af-7b2e-42b8-b8b3-2bd2575a8002",
   "metadata": {},
   "outputs": [
    {
     "data": {
      "text/plain": [
       "0.9710000000000001"
      ]
     },
     "execution_count": 99,
     "metadata": {},
     "output_type": "execute_result"
    }
   ],
   "source": [
    "warnings.filterwarnings('ignore')\n",
    "np.random.seed(42)\n",
    "\n",
    "cross_value_score_for_svc = cross_val_score(svc, X, y, scoring='accuracy')\n",
    "np.mean(cross_value_score_for_svc)"
   ]
  },
  {
   "cell_type": "markdown",
   "id": "27817da9-810c-4e96-8acc-8830ce56a5db",
   "metadata": {},
   "source": [
    "#### Model Ranking Based on Score\n",
    "1. `svc`: 0.9710000000000001\n",
    "2. `final_knn_classifier`: 0.9385\n",
    "3. `final_random_forest_classifier_model`: 0.8755\n",
    "4. `final_linear_svc_clf`: 0.804\n"
   ]
  },
  {
   "cell_type": "markdown",
   "id": "10838c03-4907-4634-8bff-5b51089952b1",
   "metadata": {},
   "source": [
    "#### 4.3 Confusion Matrix"
   ]
  },
  {
   "cell_type": "markdown",
   "id": "b2ecbea7-033c-4b65-8020-46696cfaccb8",
   "metadata": {},
   "source": [
    "**random_forest_classifier_model**"
   ]
  },
  {
   "cell_type": "code",
   "execution_count": 100,
   "id": "6e3a983f-2c88-4821-be20-f9d201523b76",
   "metadata": {},
   "outputs": [
    {
     "data": {
      "text/html": [
       "<div>\n",
       "<style scoped>\n",
       "    .dataframe tbody tr th:only-of-type {\n",
       "        vertical-align: middle;\n",
       "    }\n",
       "\n",
       "    .dataframe tbody tr th {\n",
       "        vertical-align: top;\n",
       "    }\n",
       "\n",
       "    .dataframe thead th {\n",
       "        text-align: right;\n",
       "    }\n",
       "</style>\n",
       "<table border=\"1\" class=\"dataframe\">\n",
       "  <thead>\n",
       "    <tr style=\"text-align: right;\">\n",
       "      <th>predicted Labels</th>\n",
       "      <th>0</th>\n",
       "      <th>1</th>\n",
       "      <th>2</th>\n",
       "      <th>3</th>\n",
       "    </tr>\n",
       "    <tr>\n",
       "      <th>Actual Label</th>\n",
       "      <th></th>\n",
       "      <th></th>\n",
       "      <th></th>\n",
       "      <th></th>\n",
       "    </tr>\n",
       "  </thead>\n",
       "  <tbody>\n",
       "    <tr>\n",
       "      <th>0</th>\n",
       "      <td>107</td>\n",
       "      <td>4</td>\n",
       "      <td>0</td>\n",
       "      <td>0</td>\n",
       "    </tr>\n",
       "    <tr>\n",
       "      <th>1</th>\n",
       "      <td>7</td>\n",
       "      <td>86</td>\n",
       "      <td>5</td>\n",
       "      <td>0</td>\n",
       "    </tr>\n",
       "    <tr>\n",
       "      <th>2</th>\n",
       "      <td>0</td>\n",
       "      <td>14</td>\n",
       "      <td>73</td>\n",
       "      <td>9</td>\n",
       "    </tr>\n",
       "    <tr>\n",
       "      <th>3</th>\n",
       "      <td>0</td>\n",
       "      <td>0</td>\n",
       "      <td>6</td>\n",
       "      <td>89</td>\n",
       "    </tr>\n",
       "  </tbody>\n",
       "</table>\n",
       "</div>"
      ],
      "text/plain": [
       "predicted Labels    0   1   2   3\n",
       "Actual Label                     \n",
       "0                 107   4   0   0\n",
       "1                   7  86   5   0\n",
       "2                   0  14  73   9\n",
       "3                   0   0   6  89"
      ]
     },
     "execution_count": 100,
     "metadata": {},
     "output_type": "execute_result"
    }
   ],
   "source": [
    "from sklearn.metrics import confusion_matrix\n",
    "confusion_matrix(y_test, y_preds_final_random_forest_classifier_model)\n",
    "pd.crosstab(y_test, y_preds_final_random_forest_classifier_model, rownames=[\"Actual Label\"],\n",
    "            colnames=[\"predicted Labels\"]\n",
    "           )"
   ]
  },
  {
   "cell_type": "code",
   "execution_count": 101,
   "id": "1828ff45-811a-4436-8d27-6c36d6f84a8a",
   "metadata": {},
   "outputs": [
    {
     "data": {
      "text/plain": [
       "<sklearn.metrics._plot.confusion_matrix.ConfusionMatrixDisplay at 0x2823a0110>"
      ]
     },
     "execution_count": 101,
     "metadata": {},
     "output_type": "execute_result"
    },
    {
     "data": {
      "image/png": "[encoded data removed]",
      "text/plain": [
       "<Figure size 640x480 with 2 Axes>"
      ]
     },
     "metadata": {},
     "output_type": "display_data"
    }
   ],
   "source": [
    "from sklearn.metrics import ConfusionMatrixDisplay\n",
    "ConfusionMatrixDisplay.from_estimator(estimator=final_random_forest_classifier_model, X=X, y=y)"
   ]
  },
  {
   "cell_type": "markdown",
   "id": "3da9f201-ac33-437a-887f-f977fc1a4068",
   "metadata": {},
   "source": [
    "**linear_svc_clf**"
   ]
  },
  {
   "cell_type": "code",
   "execution_count": 102,
   "id": "90bb2cdc-57ab-492a-a592-745de9cb0ad5",
   "metadata": {},
   "outputs": [
    {
     "data": {
      "text/html": [
       "<div>\n",
       "<style scoped>\n",
       "    .dataframe tbody tr th:only-of-type {\n",
       "        vertical-align: middle;\n",
       "    }\n",
       "\n",
       "    .dataframe tbody tr th {\n",
       "        vertical-align: top;\n",
       "    }\n",
       "\n",
       "    .dataframe thead th {\n",
       "        text-align: right;\n",
       "    }\n",
       "</style>\n",
       "<table border=\"1\" class=\"dataframe\">\n",
       "  <thead>\n",
       "    <tr style=\"text-align: right;\">\n",
       "      <th>predicted Labels</th>\n",
       "      <th>0</th>\n",
       "      <th>1</th>\n",
       "      <th>2</th>\n",
       "      <th>3</th>\n",
       "    </tr>\n",
       "    <tr>\n",
       "      <th>Actual Label</th>\n",
       "      <th></th>\n",
       "      <th></th>\n",
       "      <th></th>\n",
       "      <th></th>\n",
       "    </tr>\n",
       "  </thead>\n",
       "  <tbody>\n",
       "    <tr>\n",
       "      <th>0</th>\n",
       "      <td>110</td>\n",
       "      <td>1</td>\n",
       "      <td>0</td>\n",
       "      <td>0</td>\n",
       "    </tr>\n",
       "    <tr>\n",
       "      <th>1</th>\n",
       "      <td>7</td>\n",
       "      <td>74</td>\n",
       "      <td>17</td>\n",
       "      <td>0</td>\n",
       "    </tr>\n",
       "    <tr>\n",
       "      <th>2</th>\n",
       "      <td>0</td>\n",
       "      <td>24</td>\n",
       "      <td>51</td>\n",
       "      <td>21</td>\n",
       "    </tr>\n",
       "    <tr>\n",
       "      <th>3</th>\n",
       "      <td>0</td>\n",
       "      <td>0</td>\n",
       "      <td>1</td>\n",
       "      <td>94</td>\n",
       "    </tr>\n",
       "  </tbody>\n",
       "</table>\n",
       "</div>"
      ],
      "text/plain": [
       "predicted Labels    0   1   2   3\n",
       "Actual Label                     \n",
       "0                 110   1   0   0\n",
       "1                   7  74  17   0\n",
       "2                   0  24  51  21\n",
       "3                   0   0   1  94"
      ]
     },
     "execution_count": 102,
     "metadata": {},
     "output_type": "execute_result"
    }
   ],
   "source": [
    "confusion_matrix(y_test, y_preds_final_linear_svc_clf)\n",
    "pd.crosstab(y_test, y_preds_final_linear_svc_clf, rownames=[\"Actual Label\"],\n",
    "            colnames=[\"predicted Labels\"]\n",
    "           )"
   ]
  },
  {
   "cell_type": "code",
   "execution_count": 103,
   "id": "1a961ae0-ec6a-4b22-8d19-b8a3af583730",
   "metadata": {},
   "outputs": [
    {
     "data": {
      "text/plain": [
       "<sklearn.metrics._plot.confusion_matrix.ConfusionMatrixDisplay at 0x17fa99310>"
      ]
     },
     "execution_count": 103,
     "metadata": {},
     "output_type": "execute_result"
    },
    {
     "data": {
      "image/png": "[encoded data removed]",
      "text/plain": [
       "<Figure size 640x480 with 2 Axes>"
      ]
     },
     "metadata": {},
     "output_type": "display_data"
    }
   ],
   "source": [
    "ConfusionMatrixDisplay.from_estimator(estimator=final_linear_svc_clf, X=X, y=y)"
   ]
  },
  {
   "cell_type": "markdown",
   "id": "c593b394-0c0c-4e0c-b8a4-75454c17983c",
   "metadata": {},
   "source": [
    "**knn_classifier**"
   ]
  },
  {
   "cell_type": "code",
   "execution_count": 104,
   "id": "b3ed3abb-69e4-4568-9157-1d3e41ba23f9",
   "metadata": {},
   "outputs": [
    {
     "data": {
      "text/html": [
       "<div>\n",
       "<style scoped>\n",
       "    .dataframe tbody tr th:only-of-type {\n",
       "        vertical-align: middle;\n",
       "    }\n",
       "\n",
       "    .dataframe tbody tr th {\n",
       "        vertical-align: top;\n",
       "    }\n",
       "\n",
       "    .dataframe thead th {\n",
       "        text-align: right;\n",
       "    }\n",
       "</style>\n",
       "<table border=\"1\" class=\"dataframe\">\n",
       "  <thead>\n",
       "    <tr style=\"text-align: right;\">\n",
       "      <th>predicted Labels</th>\n",
       "      <th>0</th>\n",
       "      <th>1</th>\n",
       "      <th>2</th>\n",
       "      <th>3</th>\n",
       "    </tr>\n",
       "    <tr>\n",
       "      <th>Actual Label</th>\n",
       "      <th></th>\n",
       "      <th></th>\n",
       "      <th></th>\n",
       "      <th></th>\n",
       "    </tr>\n",
       "  </thead>\n",
       "  <tbody>\n",
       "    <tr>\n",
       "      <th>0</th>\n",
       "      <td>108</td>\n",
       "      <td>3</td>\n",
       "      <td>0</td>\n",
       "      <td>0</td>\n",
       "    </tr>\n",
       "    <tr>\n",
       "      <th>1</th>\n",
       "      <td>4</td>\n",
       "      <td>92</td>\n",
       "      <td>2</td>\n",
       "      <td>0</td>\n",
       "    </tr>\n",
       "    <tr>\n",
       "      <th>2</th>\n",
       "      <td>0</td>\n",
       "      <td>7</td>\n",
       "      <td>84</td>\n",
       "      <td>5</td>\n",
       "    </tr>\n",
       "    <tr>\n",
       "      <th>3</th>\n",
       "      <td>0</td>\n",
       "      <td>0</td>\n",
       "      <td>6</td>\n",
       "      <td>89</td>\n",
       "    </tr>\n",
       "  </tbody>\n",
       "</table>\n",
       "</div>"
      ],
      "text/plain": [
       "predicted Labels    0   1   2   3\n",
       "Actual Label                     \n",
       "0                 108   3   0   0\n",
       "1                   4  92   2   0\n",
       "2                   0   7  84   5\n",
       "3                   0   0   6  89"
      ]
     },
     "execution_count": 104,
     "metadata": {},
     "output_type": "execute_result"
    }
   ],
   "source": [
    "confusion_matrix(y_test, y_preds_final_knn_classifier)\n",
    "pd.crosstab(y_test, y_preds_final_knn_classifier, rownames=[\"Actual Label\"],\n",
    "            colnames=[\"predicted Labels\"]\n",
    "           )"
   ]
  },
  {
   "cell_type": "code",
   "execution_count": 105,
   "id": "e5e13ff3-15f1-4cf4-a027-2c09ee54330b",
   "metadata": {},
   "outputs": [
    {
     "data": {
      "text/plain": [
       "<sklearn.metrics._plot.confusion_matrix.ConfusionMatrixDisplay at 0x2821e1100>"
      ]
     },
     "execution_count": 105,
     "metadata": {},
     "output_type": "execute_result"
    },
    {
     "data": {
      "image/png": "[encoded data removed]",
      "text/plain": [
       "<Figure size 640x480 with 2 Axes>"
      ]
     },
     "metadata": {},
     "output_type": "display_data"
    }
   ],
   "source": [
    "ConfusionMatrixDisplay.from_estimator(estimator=final_knn_classifier, X=X.values, y=y.values)"
   ]
  },
  {
   "cell_type": "markdown",
   "id": "87396c37-eada-4800-971e-66b37b8f1090",
   "metadata": {},
   "source": [
    "**svc**"
   ]
  },
  {
   "cell_type": "code",
   "execution_count": 106,
   "id": "bdf26f3a-a390-4a4c-b0ac-4b4906c1e1f1",
   "metadata": {},
   "outputs": [
    {
     "data": {
      "text/html": [
       "<div>\n",
       "<style scoped>\n",
       "    .dataframe tbody tr th:only-of-type {\n",
       "        vertical-align: middle;\n",
       "    }\n",
       "\n",
       "    .dataframe tbody tr th {\n",
       "        vertical-align: top;\n",
       "    }\n",
       "\n",
       "    .dataframe thead th {\n",
       "        text-align: right;\n",
       "    }\n",
       "</style>\n",
       "<table border=\"1\" class=\"dataframe\">\n",
       "  <thead>\n",
       "    <tr style=\"text-align: right;\">\n",
       "      <th>predicted Labels</th>\n",
       "      <th>0</th>\n",
       "      <th>1</th>\n",
       "      <th>2</th>\n",
       "      <th>3</th>\n",
       "    </tr>\n",
       "    <tr>\n",
       "      <th>Actual Label</th>\n",
       "      <th></th>\n",
       "      <th></th>\n",
       "      <th></th>\n",
       "      <th></th>\n",
       "    </tr>\n",
       "  </thead>\n",
       "  <tbody>\n",
       "    <tr>\n",
       "      <th>0</th>\n",
       "      <td>111</td>\n",
       "      <td>0</td>\n",
       "      <td>0</td>\n",
       "      <td>0</td>\n",
       "    </tr>\n",
       "    <tr>\n",
       "      <th>1</th>\n",
       "      <td>1</td>\n",
       "      <td>95</td>\n",
       "      <td>2</td>\n",
       "      <td>0</td>\n",
       "    </tr>\n",
       "    <tr>\n",
       "      <th>2</th>\n",
       "      <td>0</td>\n",
       "      <td>1</td>\n",
       "      <td>93</td>\n",
       "      <td>2</td>\n",
       "    </tr>\n",
       "    <tr>\n",
       "      <th>3</th>\n",
       "      <td>0</td>\n",
       "      <td>0</td>\n",
       "      <td>3</td>\n",
       "      <td>92</td>\n",
       "    </tr>\n",
       "  </tbody>\n",
       "</table>\n",
       "</div>"
      ],
      "text/plain": [
       "predicted Labels    0   1   2   3\n",
       "Actual Label                     \n",
       "0                 111   0   0   0\n",
       "1                   1  95   2   0\n",
       "2                   0   1  93   2\n",
       "3                   0   0   3  92"
      ]
     },
     "execution_count": 106,
     "metadata": {},
     "output_type": "execute_result"
    }
   ],
   "source": [
    "confusion_matrix(y_test, y_preds_svc)\n",
    "pd.crosstab(y_test, y_preds_svc, rownames=[\"Actual Label\"],\n",
    "            colnames=[\"predicted Labels\"]\n",
    "           )"
   ]
  },
  {
   "cell_type": "code",
   "execution_count": 107,
   "id": "3d0a01c8-bd4f-4d87-bc18-b34cba8eaf51",
   "metadata": {},
   "outputs": [
    {
     "data": {
      "text/plain": [
       "<sklearn.metrics._plot.confusion_matrix.ConfusionMatrixDisplay at 0x2823a0980>"
      ]
     },
     "execution_count": 107,
     "metadata": {},
     "output_type": "execute_result"
    },
    {
     "data": {
      "image/png": "[encoded data removed]",
      "text/plain": [
       "<Figure size 640x480 with 2 Axes>"
      ]
     },
     "metadata": {},
     "output_type": "display_data"
    }
   ],
   "source": [
    "ConfusionMatrixDisplay.from_estimator(estimator=svc, X=X, y=y)"
   ]
  },
  {
   "cell_type": "markdown",
   "id": "0063c7f9-c908-4a59-b17f-602a1bb9fcc2",
   "metadata": {},
   "source": [
    "#### Model Ranking Based on Confusion Matrix\n",
    "\n",
    "1. `svc`\n",
    "2. `final_knn_classifier`\n",
    "2. `final_random_forest_classifier_model`\n",
    "3. `final_linear_svc_clf`"
   ]
  },
  {
   "cell_type": "markdown",
   "id": "df5941eb-6017-4b9e-b324-24978fd22e78",
   "metadata": {},
   "source": [
    "#### 4.4 Classification Report\n"
   ]
  },
  {
   "cell_type": "code",
   "execution_count": 108,
   "id": "57327c10-e756-49e7-aad4-56527231d428",
   "metadata": {},
   "outputs": [],
   "source": [
    "from sklearn.metrics import classification_report"
   ]
  },
  {
   "cell_type": "markdown",
   "id": "e1e4629b-a1bd-48e6-86b5-531889786617",
   "metadata": {},
   "source": [
    "**linear_svc_clf**"
   ]
  },
  {
   "cell_type": "code",
   "execution_count": 109,
   "id": "436a4e0b-2f19-4a65-a832-b12e94ac480e",
   "metadata": {},
   "outputs": [
    {
     "name": "stdout",
     "output_type": "stream",
     "text": [
      "              precision    recall  f1-score   support\n",
      "\n",
      "           0       0.94      0.99      0.96       111\n",
      "           1       0.75      0.76      0.75        98\n",
      "           2       0.74      0.53      0.62        96\n",
      "           3       0.82      0.99      0.90        95\n",
      "\n",
      "    accuracy                           0.82       400\n",
      "   macro avg       0.81      0.82      0.81       400\n",
      "weighted avg       0.82      0.82      0.81       400\n",
      "\n"
     ]
    }
   ],
   "source": [
    "print(classification_report(y_test, y_preds_final_linear_svc_clf))"
   ]
  },
  {
   "cell_type": "markdown",
   "id": "d58a7ec8-e941-4d7b-8c1f-ee52cd435cee",
   "metadata": {},
   "source": [
    "**knn_classifier**"
   ]
  },
  {
   "cell_type": "code",
   "execution_count": 110,
   "id": "4f03ab61-b1d0-44c8-bc87-31aa0ee4fae0",
   "metadata": {},
   "outputs": [
    {
     "name": "stdout",
     "output_type": "stream",
     "text": [
      "              precision    recall  f1-score   support\n",
      "\n",
      "           0       0.96      0.97      0.97       111\n",
      "           1       0.90      0.94      0.92        98\n",
      "           2       0.91      0.88      0.89        96\n",
      "           3       0.95      0.94      0.94        95\n",
      "\n",
      "    accuracy                           0.93       400\n",
      "   macro avg       0.93      0.93      0.93       400\n",
      "weighted avg       0.93      0.93      0.93       400\n",
      "\n"
     ]
    }
   ],
   "source": [
    "print(classification_report(y_test, y_preds_final_knn_classifier))"
   ]
  },
  {
   "cell_type": "markdown",
   "id": "c59feb00-3aa2-4061-b870-b710ebad17ac",
   "metadata": {},
   "source": [
    "**random_forest_classifier_model**"
   ]
  },
  {
   "cell_type": "code",
   "execution_count": 111,
   "id": "a0e6f9b1-8e77-4c16-9def-9b7f995bc590",
   "metadata": {},
   "outputs": [
    {
     "name": "stdout",
     "output_type": "stream",
     "text": [
      "              precision    recall  f1-score   support\n",
      "\n",
      "           0       0.94      0.96      0.95       111\n",
      "           1       0.83      0.88      0.85        98\n",
      "           2       0.87      0.76      0.81        96\n",
      "           3       0.91      0.94      0.92        95\n",
      "\n",
      "    accuracy                           0.89       400\n",
      "   macro avg       0.89      0.88      0.88       400\n",
      "weighted avg       0.89      0.89      0.89       400\n",
      "\n"
     ]
    }
   ],
   "source": [
    "print(classification_report(y_test, y_preds_final_random_forest_classifier_model))"
   ]
  },
  {
   "cell_type": "markdown",
   "id": "88f287a2-5ff0-442c-a2f7-bcb4e9bd1af9",
   "metadata": {},
   "source": [
    "**svc_model**"
   ]
  },
  {
   "cell_type": "code",
   "execution_count": 112,
   "id": "178a9db9-d06a-4276-ad05-0a52bd46d48f",
   "metadata": {},
   "outputs": [
    {
     "name": "stdout",
     "output_type": "stream",
     "text": [
      "              precision    recall  f1-score   support\n",
      "\n",
      "           0       0.99      1.00      1.00       111\n",
      "           1       0.99      0.97      0.98        98\n",
      "           2       0.95      0.97      0.96        96\n",
      "           3       0.98      0.97      0.97        95\n",
      "\n",
      "    accuracy                           0.98       400\n",
      "   macro avg       0.98      0.98      0.98       400\n",
      "weighted avg       0.98      0.98      0.98       400\n",
      "\n"
     ]
    }
   ],
   "source": [
    "print(classification_report(y_test, y_preds_svc))"
   ]
  },
  {
   "cell_type": "markdown",
   "id": "84145093-a7c3-428c-a31d-66e819ae9c28",
   "metadata": {},
   "source": [
    "## 6. Save and load a trained model"
   ]
  },
  {
   "cell_type": "markdown",
   "id": "4496a071-9613-4119-9742-592deb275ac0",
   "metadata": {},
   "source": [
    "**random_forest_classifier_model**"
   ]
  },
  {
   "cell_type": "code",
   "execution_count": 113,
   "id": "06133d2d-f3e4-40ce-bf67-0f215a83aa65",
   "metadata": {},
   "outputs": [],
   "source": [
    "import pickle\n",
    "pickle.dump(final_random_forest_classifier_model, open(\"./models/final_random_forest_classifier_model.pkl\", \"wb\"))"
   ]
  },
  {
   "cell_type": "markdown",
   "id": "d197ae36-e9ea-47c9-be2c-d967ecb93877",
   "metadata": {},
   "source": [
    "**linear_svc_clf**"
   ]
  },
  {
   "cell_type": "code",
   "execution_count": 114,
   "id": "5373cb13-4bc3-4b63-b38b-ad9e5e3669f3",
   "metadata": {},
   "outputs": [],
   "source": [
    "pickle.dump(final_linear_svc_clf, open(\"./models/final_linear_svc_clf_model.pkl\", \"wb\"))"
   ]
  },
  {
   "cell_type": "markdown",
   "id": "3f62b4e2-4cd3-4f89-8e5d-8b69ce358fab",
   "metadata": {},
   "source": [
    "**knn_classifier**"
   ]
  },
  {
   "cell_type": "code",
   "execution_count": 115,
   "id": "12bb2a23-f0ce-46cf-b770-86ef54d29002",
   "metadata": {},
   "outputs": [],
   "source": [
    "pickle.dump(final_knn_classifier, open(\"./models/final_knn_classifier_model.pkl\", \"wb\"))"
   ]
  },
  {
   "cell_type": "markdown",
   "id": "780ddd49-015a-47b9-95ab-a8149e9fe0aa",
   "metadata": {},
   "source": [
    "**svc**"
   ]
  },
  {
   "cell_type": "code",
   "execution_count": 116,
   "id": "1b5c6df2-0fa3-4c00-9883-e1503377ad2d",
   "metadata": {},
   "outputs": [],
   "source": [
    "pickle.dump(svc, open(\"./models/final_svc_model.pkl\", \"wb\"))"
   ]
  },
  {
   "cell_type": "markdown",
   "id": "ce74ccc6-d387-40cf-9b5d-4737139da3eb",
   "metadata": {},
   "source": [
    "# 7. Conclusion\n",
    "\n",
    "In the evaluation of our models, the SVC classifier demonstrated the highest performance, followed by the k-nearest neighbors (KNN) classifier, random forest classifier and linear support vector classifier (LinearSVC)."
   ]
  },
  {
   "cell_type": "code",
   "execution_count": 117,
   "id": "49110f13-fbe6-4c4b-a2cf-b220b7df8a75",
   "metadata": {},
   "outputs": [],
   "source": [
    "from sklearn.metrics import classification_report, confusion_matrix, accuracy_score, recall_score, precision_score, f1_score\n",
    "def evaluate_preds(y_true, y_preds):\n",
    "    \"\"\"\n",
    "    Performs evaluation comparison on \n",
    "    y_true labels vs y_preds labels on classification\n",
    "    \"\"\"\n",
    "    accuracy = accuracy_score(y_true, y_preds)\n",
    "    precision = precision_score(y_true, y_preds, average='micro')\n",
    "    recall = recall_score(y_true, y_preds, average='micro')\n",
    "    f1 = f1_score(y_true, y_preds, average='micro')\n",
    "    metric_dict = {\n",
    "        \"accuracy\": round(accuracy, 2),\n",
    "        \"precision\": round(precision, 2),\n",
    "        \"recall\": round(recall, 2),\n",
    "        \"f1\": round(f1, 2)\n",
    "    }\n",
    "    \n",
    "    print(f\"Result: {metric_dict}\")\n",
    "    \n",
    "    return metric_dict"
   ]
  },
  {
   "cell_type": "code",
   "execution_count": 118,
   "id": "e0c56658-cfcc-451c-84d1-022b7750e7e5",
   "metadata": {},
   "outputs": [
    {
     "name": "stdout",
     "output_type": "stream",
     "text": [
      "Result: {'accuracy': 0.98, 'precision': 0.98, 'recall': 0.98, 'f1': 0.98}\n",
      "Result: {'accuracy': 0.93, 'precision': 0.93, 'recall': 0.93, 'f1': 0.93}\n",
      "Result: {'accuracy': 0.89, 'precision': 0.89, 'recall': 0.89, 'f1': 0.89}\n",
      "Result: {'accuracy': 0.82, 'precision': 0.82, 'recall': 0.82, 'f1': 0.82}\n"
     ]
    }
   ],
   "source": [
    "svc_metrics = evaluate_preds(y_test, y_preds_svc)\n",
    "final_knn_classifier_metrics = evaluate_preds(y_test, y_preds_final_knn_classifier)\n",
    "final_random_forest_classifier_model_metrics = evaluate_preds(y_test, y_preds_final_random_forest_classifier_model)\n",
    "final_linear_svc_clf_metrics = evaluate_preds(y_test, y_preds_final_linear_svc_clf)\n"
   ]
  },
  {
   "cell_type": "code",
   "execution_count": 119,
   "id": "149c3f8a-2efd-4f76-8200-2be7eea3d6b9",
   "metadata": {},
   "outputs": [
    {
     "data": {
      "text/plain": [
       "<Axes: >"
      ]
     },
     "execution_count": 119,
     "metadata": {},
     "output_type": "execute_result"
    },
    {
     "data": {
      "image/png": "[encoded data removed]",
      "text/plain": [
       "<Figure size 1000x800 with 1 Axes>"
      ]
     },
     "metadata": {},
     "output_type": "display_data"
    }
   ],
   "source": [
    "compare_metrics = pd.DataFrame({\n",
    "    \"svc_metrics\": svc_metrics,\n",
    "    \"knn_classifier_metrics\": final_knn_classifier_metrics,\n",
    "    \"random_forest_classifier_model_metrics\": final_random_forest_classifier_model_metrics,\n",
    "    \"linear_svc_clf_metrics\": final_linear_svc_clf_metrics\n",
    "})\n",
    "compare_metrics.plot.bar(figsize=(10,8))"
   ]
  },
  {
   "cell_type": "markdown",
   "id": "84ab328b-4d1b-46d9-947b-11010bdd8376",
   "metadata": {},
   "source": [
    "# 8. Predict test data and save predictions"
   ]
  },
  {
   "cell_type": "code",
   "execution_count": 120,
   "id": "a7a9e638-82a6-4f90-8220-2621c7050037",
   "metadata": {},
   "outputs": [
    {
     "data": {
      "text/html": [
       "<div>\n",
       "<style scoped>\n",
       "    .dataframe tbody tr th:only-of-type {\n",
       "        vertical-align: middle;\n",
       "    }\n",
       "\n",
       "    .dataframe tbody tr th {\n",
       "        vertical-align: top;\n",
       "    }\n",
       "\n",
       "    .dataframe thead th {\n",
       "        text-align: right;\n",
       "    }\n",
       "</style>\n",
       "<table border=\"1\" class=\"dataframe\">\n",
       "  <thead>\n",
       "    <tr style=\"text-align: right;\">\n",
       "      <th></th>\n",
       "      <th>id</th>\n",
       "      <th>battery_power</th>\n",
       "      <th>blue</th>\n",
       "      <th>clock_speed</th>\n",
       "      <th>dual_sim</th>\n",
       "      <th>fc</th>\n",
       "      <th>four_g</th>\n",
       "      <th>int_memory</th>\n",
       "      <th>m_dep</th>\n",
       "      <th>mobile_wt</th>\n",
       "      <th>...</th>\n",
       "      <th>pc</th>\n",
       "      <th>px_height</th>\n",
       "      <th>px_width</th>\n",
       "      <th>ram</th>\n",
       "      <th>sc_h</th>\n",
       "      <th>sc_w</th>\n",
       "      <th>talk_time</th>\n",
       "      <th>three_g</th>\n",
       "      <th>touch_screen</th>\n",
       "      <th>wifi</th>\n",
       "    </tr>\n",
       "  </thead>\n",
       "  <tbody>\n",
       "    <tr>\n",
       "      <th>0</th>\n",
       "      <td>1</td>\n",
       "      <td>1043</td>\n",
       "      <td>1</td>\n",
       "      <td>1.8</td>\n",
       "      <td>1</td>\n",
       "      <td>14</td>\n",
       "      <td>0</td>\n",
       "      <td>5</td>\n",
       "      <td>0.1</td>\n",
       "      <td>193</td>\n",
       "      <td>...</td>\n",
       "      <td>16</td>\n",
       "      <td>226</td>\n",
       "      <td>1412</td>\n",
       "      <td>3476</td>\n",
       "      <td>12</td>\n",
       "      <td>7</td>\n",
       "      <td>2</td>\n",
       "      <td>0</td>\n",
       "      <td>1</td>\n",
       "      <td>0</td>\n",
       "    </tr>\n",
       "    <tr>\n",
       "      <th>1</th>\n",
       "      <td>2</td>\n",
       "      <td>841</td>\n",
       "      <td>1</td>\n",
       "      <td>0.5</td>\n",
       "      <td>1</td>\n",
       "      <td>4</td>\n",
       "      <td>1</td>\n",
       "      <td>61</td>\n",
       "      <td>0.8</td>\n",
       "      <td>191</td>\n",
       "      <td>...</td>\n",
       "      <td>12</td>\n",
       "      <td>746</td>\n",
       "      <td>857</td>\n",
       "      <td>3895</td>\n",
       "      <td>6</td>\n",
       "      <td>0</td>\n",
       "      <td>7</td>\n",
       "      <td>1</td>\n",
       "      <td>0</td>\n",
       "      <td>0</td>\n",
       "    </tr>\n",
       "    <tr>\n",
       "      <th>2</th>\n",
       "      <td>3</td>\n",
       "      <td>1807</td>\n",
       "      <td>1</td>\n",
       "      <td>2.8</td>\n",
       "      <td>0</td>\n",
       "      <td>1</td>\n",
       "      <td>0</td>\n",
       "      <td>27</td>\n",
       "      <td>0.9</td>\n",
       "      <td>186</td>\n",
       "      <td>...</td>\n",
       "      <td>4</td>\n",
       "      <td>1270</td>\n",
       "      <td>1366</td>\n",
       "      <td>2396</td>\n",
       "      <td>17</td>\n",
       "      <td>10</td>\n",
       "      <td>10</td>\n",
       "      <td>0</td>\n",
       "      <td>1</td>\n",
       "      <td>1</td>\n",
       "    </tr>\n",
       "    <tr>\n",
       "      <th>3</th>\n",
       "      <td>4</td>\n",
       "      <td>1546</td>\n",
       "      <td>0</td>\n",
       "      <td>0.5</td>\n",
       "      <td>1</td>\n",
       "      <td>18</td>\n",
       "      <td>1</td>\n",
       "      <td>25</td>\n",
       "      <td>0.5</td>\n",
       "      <td>96</td>\n",
       "      <td>...</td>\n",
       "      <td>20</td>\n",
       "      <td>295</td>\n",
       "      <td>1752</td>\n",
       "      <td>3893</td>\n",
       "      <td>10</td>\n",
       "      <td>0</td>\n",
       "      <td>7</td>\n",
       "      <td>1</td>\n",
       "      <td>1</td>\n",
       "      <td>0</td>\n",
       "    </tr>\n",
       "    <tr>\n",
       "      <th>4</th>\n",
       "      <td>5</td>\n",
       "      <td>1434</td>\n",
       "      <td>0</td>\n",
       "      <td>1.4</td>\n",
       "      <td>0</td>\n",
       "      <td>11</td>\n",
       "      <td>1</td>\n",
       "      <td>49</td>\n",
       "      <td>0.5</td>\n",
       "      <td>108</td>\n",
       "      <td>...</td>\n",
       "      <td>18</td>\n",
       "      <td>749</td>\n",
       "      <td>810</td>\n",
       "      <td>1773</td>\n",
       "      <td>15</td>\n",
       "      <td>8</td>\n",
       "      <td>7</td>\n",
       "      <td>1</td>\n",
       "      <td>0</td>\n",
       "      <td>1</td>\n",
       "    </tr>\n",
       "  </tbody>\n",
       "</table>\n",
       "<p>5 rows × 21 columns</p>\n",
       "</div>"
      ],
      "text/plain": [
       "   id  battery_power  blue  clock_speed  dual_sim  fc  four_g  int_memory  \\\n",
       "0   1           1043     1          1.8         1  14       0           5   \n",
       "1   2            841     1          0.5         1   4       1          61   \n",
       "2   3           1807     1          2.8         0   1       0          27   \n",
       "3   4           1546     0          0.5         1  18       1          25   \n",
       "4   5           1434     0          1.4         0  11       1          49   \n",
       "\n",
       "   m_dep  mobile_wt  ...  pc  px_height  px_width   ram  sc_h  sc_w  \\\n",
       "0    0.1        193  ...  16        226      1412  3476    12     7   \n",
       "1    0.8        191  ...  12        746       857  3895     6     0   \n",
       "2    0.9        186  ...   4       1270      1366  2396    17    10   \n",
       "3    0.5         96  ...  20        295      1752  3893    10     0   \n",
       "4    0.5        108  ...  18        749       810  1773    15     8   \n",
       "\n",
       "   talk_time  three_g  touch_screen  wifi  \n",
       "0          2        0             1     0  \n",
       "1          7        1             0     0  \n",
       "2         10        0             1     1  \n",
       "3          7        1             1     0  \n",
       "4          7        1             0     1  \n",
       "\n",
       "[5 rows x 21 columns]"
      ]
     },
     "execution_count": 120,
     "metadata": {},
     "output_type": "execute_result"
    }
   ],
   "source": [
    "mobile_price_test_data = pd.read_csv(\"./data/test.csv\")\n",
    "mobile_price_test_data.head()"
   ]
  },
  {
   "cell_type": "code",
   "execution_count": 121,
   "id": "ea39a748-6697-4523-9b53-562e6c398bef",
   "metadata": {},
   "outputs": [
    {
     "data": {
      "text/plain": [
       "1000"
      ]
     },
     "execution_count": 121,
     "metadata": {},
     "output_type": "execute_result"
    }
   ],
   "source": [
    "len(mobile_price_test_data)"
   ]
  },
  {
   "cell_type": "code",
   "execution_count": 122,
   "id": "3bc89975-7397-43a9-af60-a40359736a96",
   "metadata": {},
   "outputs": [
    {
     "data": {
      "text/plain": [
       "id                 int64\n",
       "battery_power      int64\n",
       "blue               int64\n",
       "clock_speed      float64\n",
       "dual_sim           int64\n",
       "fc                 int64\n",
       "four_g             int64\n",
       "int_memory         int64\n",
       "m_dep            float64\n",
       "mobile_wt          int64\n",
       "n_cores            int64\n",
       "pc                 int64\n",
       "px_height          int64\n",
       "px_width           int64\n",
       "ram                int64\n",
       "sc_h               int64\n",
       "sc_w               int64\n",
       "talk_time          int64\n",
       "three_g            int64\n",
       "touch_screen       int64\n",
       "wifi               int64\n",
       "dtype: object"
      ]
     },
     "execution_count": 122,
     "metadata": {},
     "output_type": "execute_result"
    }
   ],
   "source": [
    "mobile_price_test_data.dtypes"
   ]
  },
  {
   "cell_type": "code",
   "execution_count": 123,
   "id": "2bf7ea11-196f-4003-bc85-4096e036da60",
   "metadata": {},
   "outputs": [
    {
     "data": {
      "text/plain": [
       "id               0\n",
       "battery_power    0\n",
       "blue             0\n",
       "clock_speed      0\n",
       "dual_sim         0\n",
       "fc               0\n",
       "four_g           0\n",
       "int_memory       0\n",
       "m_dep            0\n",
       "mobile_wt        0\n",
       "n_cores          0\n",
       "pc               0\n",
       "px_height        0\n",
       "px_width         0\n",
       "ram              0\n",
       "sc_h             0\n",
       "sc_w             0\n",
       "talk_time        0\n",
       "three_g          0\n",
       "touch_screen     0\n",
       "wifi             0\n",
       "dtype: int64"
      ]
     },
     "execution_count": 123,
     "metadata": {},
     "output_type": "execute_result"
    }
   ],
   "source": [
    "mobile_price_test_data.isna().sum()"
   ]
  },
  {
   "cell_type": "code",
   "execution_count": 124,
   "id": "7bc33d0c-2636-40d1-893c-127ac48a58ae",
   "metadata": {},
   "outputs": [
    {
     "data": {
      "text/html": [
       "<div>\n",
       "<style scoped>\n",
       "    .dataframe tbody tr th:only-of-type {\n",
       "        vertical-align: middle;\n",
       "    }\n",
       "\n",
       "    .dataframe tbody tr th {\n",
       "        vertical-align: top;\n",
       "    }\n",
       "\n",
       "    .dataframe thead th {\n",
       "        text-align: right;\n",
       "    }\n",
       "</style>\n",
       "<table border=\"1\" class=\"dataframe\">\n",
       "  <thead>\n",
       "    <tr style=\"text-align: right;\">\n",
       "      <th></th>\n",
       "      <th>battery_power</th>\n",
       "      <th>blue</th>\n",
       "      <th>clock_speed</th>\n",
       "      <th>dual_sim</th>\n",
       "      <th>fc</th>\n",
       "      <th>four_g</th>\n",
       "      <th>int_memory</th>\n",
       "      <th>m_dep</th>\n",
       "      <th>mobile_wt</th>\n",
       "      <th>n_cores</th>\n",
       "      <th>...</th>\n",
       "      <th>px_height</th>\n",
       "      <th>px_width</th>\n",
       "      <th>ram</th>\n",
       "      <th>sc_h</th>\n",
       "      <th>sc_w</th>\n",
       "      <th>talk_time</th>\n",
       "      <th>three_g</th>\n",
       "      <th>touch_screen</th>\n",
       "      <th>wifi</th>\n",
       "      <th>price_range</th>\n",
       "    </tr>\n",
       "  </thead>\n",
       "  <tbody>\n",
       "  </tbody>\n",
       "</table>\n",
       "<p>0 rows × 21 columns</p>\n",
       "</div>"
      ],
      "text/plain": [
       "Empty DataFrame\n",
       "Columns: [battery_power, blue, clock_speed, dual_sim, fc, four_g, int_memory, m_dep, mobile_wt, n_cores, pc, px_height, px_width, ram, sc_h, sc_w, talk_time, three_g, touch_screen, wifi, price_range]\n",
       "Index: []\n",
       "\n",
       "[0 rows x 21 columns]"
      ]
     },
     "execution_count": 124,
     "metadata": {},
     "output_type": "execute_result"
    }
   ],
   "source": [
    "duplicates = mobile_price_data[mobile_price_data.duplicated()]\n",
    "duplicates"
   ]
  },
  {
   "cell_type": "code",
   "execution_count": 125,
   "id": "9649c58a-3178-4d68-ac07-ed78232aecc3",
   "metadata": {},
   "outputs": [
    {
     "data": {
      "text/plain": [
       "0.9775"
      ]
     },
     "execution_count": 125,
     "metadata": {},
     "output_type": "execute_result"
    }
   ],
   "source": [
    "loaded_final_svc_model = pickle.load(open(\"./models/final_svc_model.pkl\", \"rb\"))\n",
    "loaded_final_svc_model.score(X_test.values, y_test.values)"
   ]
  },
  {
   "cell_type": "code",
   "execution_count": 126,
   "id": "df9c30dd-44d6-4f66-9a1e-79b089a6cc97",
   "metadata": {},
   "outputs": [
    {
     "data": {
      "text/html": [
       "<div>\n",
       "<style scoped>\n",
       "    .dataframe tbody tr th:only-of-type {\n",
       "        vertical-align: middle;\n",
       "    }\n",
       "\n",
       "    .dataframe tbody tr th {\n",
       "        vertical-align: top;\n",
       "    }\n",
       "\n",
       "    .dataframe thead th {\n",
       "        text-align: right;\n",
       "    }\n",
       "</style>\n",
       "<table border=\"1\" class=\"dataframe\">\n",
       "  <thead>\n",
       "    <tr style=\"text-align: right;\">\n",
       "      <th></th>\n",
       "      <th>battery_power</th>\n",
       "      <th>blue</th>\n",
       "      <th>clock_speed</th>\n",
       "      <th>dual_sim</th>\n",
       "      <th>fc</th>\n",
       "      <th>four_g</th>\n",
       "      <th>int_memory</th>\n",
       "      <th>m_dep</th>\n",
       "      <th>mobile_wt</th>\n",
       "      <th>n_cores</th>\n",
       "      <th>...</th>\n",
       "      <th>px_height</th>\n",
       "      <th>px_width</th>\n",
       "      <th>ram</th>\n",
       "      <th>sc_h</th>\n",
       "      <th>sc_w</th>\n",
       "      <th>talk_time</th>\n",
       "      <th>three_g</th>\n",
       "      <th>touch_screen</th>\n",
       "      <th>wifi</th>\n",
       "      <th>price_range</th>\n",
       "    </tr>\n",
       "  </thead>\n",
       "  <tbody>\n",
       "    <tr>\n",
       "      <th>0</th>\n",
       "      <td>1043</td>\n",
       "      <td>1</td>\n",
       "      <td>1.8</td>\n",
       "      <td>1</td>\n",
       "      <td>14</td>\n",
       "      <td>0</td>\n",
       "      <td>5</td>\n",
       "      <td>0.1</td>\n",
       "      <td>193</td>\n",
       "      <td>3</td>\n",
       "      <td>...</td>\n",
       "      <td>226</td>\n",
       "      <td>1412</td>\n",
       "      <td>3476</td>\n",
       "      <td>12</td>\n",
       "      <td>7</td>\n",
       "      <td>2</td>\n",
       "      <td>0</td>\n",
       "      <td>1</td>\n",
       "      <td>0</td>\n",
       "      <td>3</td>\n",
       "    </tr>\n",
       "    <tr>\n",
       "      <th>1</th>\n",
       "      <td>841</td>\n",
       "      <td>1</td>\n",
       "      <td>0.5</td>\n",
       "      <td>1</td>\n",
       "      <td>4</td>\n",
       "      <td>1</td>\n",
       "      <td>61</td>\n",
       "      <td>0.8</td>\n",
       "      <td>191</td>\n",
       "      <td>5</td>\n",
       "      <td>...</td>\n",
       "      <td>746</td>\n",
       "      <td>857</td>\n",
       "      <td>3895</td>\n",
       "      <td>6</td>\n",
       "      <td>0</td>\n",
       "      <td>7</td>\n",
       "      <td>1</td>\n",
       "      <td>0</td>\n",
       "      <td>0</td>\n",
       "      <td>3</td>\n",
       "    </tr>\n",
       "    <tr>\n",
       "      <th>2</th>\n",
       "      <td>1807</td>\n",
       "      <td>1</td>\n",
       "      <td>2.8</td>\n",
       "      <td>0</td>\n",
       "      <td>1</td>\n",
       "      <td>0</td>\n",
       "      <td>27</td>\n",
       "      <td>0.9</td>\n",
       "      <td>186</td>\n",
       "      <td>3</td>\n",
       "      <td>...</td>\n",
       "      <td>1270</td>\n",
       "      <td>1366</td>\n",
       "      <td>2396</td>\n",
       "      <td>17</td>\n",
       "      <td>10</td>\n",
       "      <td>10</td>\n",
       "      <td>0</td>\n",
       "      <td>1</td>\n",
       "      <td>1</td>\n",
       "      <td>2</td>\n",
       "    </tr>\n",
       "    <tr>\n",
       "      <th>3</th>\n",
       "      <td>1546</td>\n",
       "      <td>0</td>\n",
       "      <td>0.5</td>\n",
       "      <td>1</td>\n",
       "      <td>18</td>\n",
       "      <td>1</td>\n",
       "      <td>25</td>\n",
       "      <td>0.5</td>\n",
       "      <td>96</td>\n",
       "      <td>8</td>\n",
       "      <td>...</td>\n",
       "      <td>295</td>\n",
       "      <td>1752</td>\n",
       "      <td>3893</td>\n",
       "      <td>10</td>\n",
       "      <td>0</td>\n",
       "      <td>7</td>\n",
       "      <td>1</td>\n",
       "      <td>1</td>\n",
       "      <td>0</td>\n",
       "      <td>3</td>\n",
       "    </tr>\n",
       "    <tr>\n",
       "      <th>4</th>\n",
       "      <td>1434</td>\n",
       "      <td>0</td>\n",
       "      <td>1.4</td>\n",
       "      <td>0</td>\n",
       "      <td>11</td>\n",
       "      <td>1</td>\n",
       "      <td>49</td>\n",
       "      <td>0.5</td>\n",
       "      <td>108</td>\n",
       "      <td>6</td>\n",
       "      <td>...</td>\n",
       "      <td>749</td>\n",
       "      <td>810</td>\n",
       "      <td>1773</td>\n",
       "      <td>15</td>\n",
       "      <td>8</td>\n",
       "      <td>7</td>\n",
       "      <td>1</td>\n",
       "      <td>0</td>\n",
       "      <td>1</td>\n",
       "      <td>1</td>\n",
       "    </tr>\n",
       "  </tbody>\n",
       "</table>\n",
       "<p>5 rows × 21 columns</p>\n",
       "</div>"
      ],
      "text/plain": [
       "   battery_power  blue  clock_speed  dual_sim  fc  four_g  int_memory  m_dep  \\\n",
       "0           1043     1          1.8         1  14       0           5    0.1   \n",
       "1            841     1          0.5         1   4       1          61    0.8   \n",
       "2           1807     1          2.8         0   1       0          27    0.9   \n",
       "3           1546     0          0.5         1  18       1          25    0.5   \n",
       "4           1434     0          1.4         0  11       1          49    0.5   \n",
       "\n",
       "   mobile_wt  n_cores  ...  px_height  px_width   ram  sc_h  sc_w  talk_time  \\\n",
       "0        193        3  ...        226      1412  3476    12     7          2   \n",
       "1        191        5  ...        746       857  3895     6     0          7   \n",
       "2        186        3  ...       1270      1366  2396    17    10         10   \n",
       "3         96        8  ...        295      1752  3893    10     0          7   \n",
       "4        108        6  ...        749       810  1773    15     8          7   \n",
       "\n",
       "   three_g  touch_screen  wifi  price_range  \n",
       "0        0             1     0            3  \n",
       "1        1             0     0            3  \n",
       "2        0             1     1            2  \n",
       "3        1             1     0            3  \n",
       "4        1             0     1            1  \n",
       "\n",
       "[5 rows x 21 columns]"
      ]
     },
     "execution_count": 126,
     "metadata": {},
     "output_type": "execute_result"
    }
   ],
   "source": [
    "import copy\n",
    "mobile_price_test_data_X = mobile_price_test_data.drop(\"id\", axis=1)\n",
    "mobile_price_test_data_prediction = copy.deepcopy(mobile_price_test_data_X)\n",
    "mobile_price_test_data_prediction['price_range'] = loaded_final_svc_model.predict(mobile_price_test_data_X.values)\n",
    "mobile_price_test_data_prediction.head()"
   ]
  },
  {
   "cell_type": "code",
   "execution_count": 127,
   "id": "d35d04d3-c4a9-4c22-a5a9-ef9319cebc1b",
   "metadata": {},
   "outputs": [
    {
     "data": {
      "text/html": [
       "<div>\n",
       "<style scoped>\n",
       "    .dataframe tbody tr th:only-of-type {\n",
       "        vertical-align: middle;\n",
       "    }\n",
       "\n",
       "    .dataframe tbody tr th {\n",
       "        vertical-align: top;\n",
       "    }\n",
       "\n",
       "    .dataframe thead th {\n",
       "        text-align: right;\n",
       "    }\n",
       "</style>\n",
       "<table border=\"1\" class=\"dataframe\">\n",
       "  <thead>\n",
       "    <tr style=\"text-align: right;\">\n",
       "      <th></th>\n",
       "      <th>battery_power</th>\n",
       "      <th>blue</th>\n",
       "      <th>clock_speed</th>\n",
       "      <th>dual_sim</th>\n",
       "      <th>fc</th>\n",
       "      <th>four_g</th>\n",
       "      <th>int_memory</th>\n",
       "      <th>m_dep</th>\n",
       "      <th>mobile_wt</th>\n",
       "      <th>n_cores</th>\n",
       "      <th>...</th>\n",
       "      <th>px_height</th>\n",
       "      <th>px_width</th>\n",
       "      <th>ram</th>\n",
       "      <th>sc_h</th>\n",
       "      <th>sc_w</th>\n",
       "      <th>talk_time</th>\n",
       "      <th>three_g</th>\n",
       "      <th>touch_screen</th>\n",
       "      <th>wifi</th>\n",
       "      <th>price_range</th>\n",
       "    </tr>\n",
       "  </thead>\n",
       "  <tbody>\n",
       "    <tr>\n",
       "      <th>995</th>\n",
       "      <td>1700</td>\n",
       "      <td>1</td>\n",
       "      <td>1.9</td>\n",
       "      <td>0</td>\n",
       "      <td>0</td>\n",
       "      <td>1</td>\n",
       "      <td>54</td>\n",
       "      <td>0.5</td>\n",
       "      <td>170</td>\n",
       "      <td>7</td>\n",
       "      <td>...</td>\n",
       "      <td>644</td>\n",
       "      <td>913</td>\n",
       "      <td>2121</td>\n",
       "      <td>14</td>\n",
       "      <td>8</td>\n",
       "      <td>15</td>\n",
       "      <td>1</td>\n",
       "      <td>1</td>\n",
       "      <td>0</td>\n",
       "      <td>2</td>\n",
       "    </tr>\n",
       "    <tr>\n",
       "      <th>996</th>\n",
       "      <td>609</td>\n",
       "      <td>0</td>\n",
       "      <td>1.8</td>\n",
       "      <td>1</td>\n",
       "      <td>0</td>\n",
       "      <td>0</td>\n",
       "      <td>13</td>\n",
       "      <td>0.9</td>\n",
       "      <td>186</td>\n",
       "      <td>4</td>\n",
       "      <td>...</td>\n",
       "      <td>1152</td>\n",
       "      <td>1632</td>\n",
       "      <td>1933</td>\n",
       "      <td>8</td>\n",
       "      <td>1</td>\n",
       "      <td>19</td>\n",
       "      <td>0</td>\n",
       "      <td>1</td>\n",
       "      <td>1</td>\n",
       "      <td>1</td>\n",
       "    </tr>\n",
       "    <tr>\n",
       "      <th>997</th>\n",
       "      <td>1185</td>\n",
       "      <td>0</td>\n",
       "      <td>1.4</td>\n",
       "      <td>0</td>\n",
       "      <td>1</td>\n",
       "      <td>1</td>\n",
       "      <td>8</td>\n",
       "      <td>0.5</td>\n",
       "      <td>80</td>\n",
       "      <td>1</td>\n",
       "      <td>...</td>\n",
       "      <td>477</td>\n",
       "      <td>825</td>\n",
       "      <td>1223</td>\n",
       "      <td>5</td>\n",
       "      <td>0</td>\n",
       "      <td>14</td>\n",
       "      <td>1</td>\n",
       "      <td>0</td>\n",
       "      <td>0</td>\n",
       "      <td>0</td>\n",
       "    </tr>\n",
       "    <tr>\n",
       "      <th>998</th>\n",
       "      <td>1533</td>\n",
       "      <td>1</td>\n",
       "      <td>0.5</td>\n",
       "      <td>1</td>\n",
       "      <td>0</td>\n",
       "      <td>0</td>\n",
       "      <td>50</td>\n",
       "      <td>0.4</td>\n",
       "      <td>171</td>\n",
       "      <td>2</td>\n",
       "      <td>...</td>\n",
       "      <td>38</td>\n",
       "      <td>832</td>\n",
       "      <td>2509</td>\n",
       "      <td>15</td>\n",
       "      <td>11</td>\n",
       "      <td>6</td>\n",
       "      <td>0</td>\n",
       "      <td>1</td>\n",
       "      <td>0</td>\n",
       "      <td>2</td>\n",
       "    </tr>\n",
       "    <tr>\n",
       "      <th>999</th>\n",
       "      <td>1270</td>\n",
       "      <td>1</td>\n",
       "      <td>0.5</td>\n",
       "      <td>0</td>\n",
       "      <td>4</td>\n",
       "      <td>1</td>\n",
       "      <td>35</td>\n",
       "      <td>0.1</td>\n",
       "      <td>140</td>\n",
       "      <td>6</td>\n",
       "      <td>...</td>\n",
       "      <td>457</td>\n",
       "      <td>608</td>\n",
       "      <td>2828</td>\n",
       "      <td>9</td>\n",
       "      <td>2</td>\n",
       "      <td>3</td>\n",
       "      <td>1</td>\n",
       "      <td>0</td>\n",
       "      <td>1</td>\n",
       "      <td>2</td>\n",
       "    </tr>\n",
       "  </tbody>\n",
       "</table>\n",
       "<p>5 rows × 21 columns</p>\n",
       "</div>"
      ],
      "text/plain": [
       "     battery_power  blue  clock_speed  dual_sim  fc  four_g  int_memory  \\\n",
       "995           1700     1          1.9         0   0       1          54   \n",
       "996            609     0          1.8         1   0       0          13   \n",
       "997           1185     0          1.4         0   1       1           8   \n",
       "998           1533     1          0.5         1   0       0          50   \n",
       "999           1270     1          0.5         0   4       1          35   \n",
       "\n",
       "     m_dep  mobile_wt  n_cores  ...  px_height  px_width   ram  sc_h  sc_w  \\\n",
       "995    0.5        170        7  ...        644       913  2121    14     8   \n",
       "996    0.9        186        4  ...       1152      1632  1933     8     1   \n",
       "997    0.5         80        1  ...        477       825  1223     5     0   \n",
       "998    0.4        171        2  ...         38       832  2509    15    11   \n",
       "999    0.1        140        6  ...        457       608  2828     9     2   \n",
       "\n",
       "     talk_time  three_g  touch_screen  wifi  price_range  \n",
       "995         15        1             1     0            2  \n",
       "996         19        0             1     1            1  \n",
       "997         14        1             0     0            0  \n",
       "998          6        0             1     0            2  \n",
       "999          3        1             0     1            2  \n",
       "\n",
       "[5 rows x 21 columns]"
      ]
     },
     "execution_count": 127,
     "metadata": {},
     "output_type": "execute_result"
    }
   ],
   "source": [
    "mobile_price_test_data_prediction.tail()"
   ]
  },
  {
   "cell_type": "code",
   "execution_count": 128,
   "id": "c9fd6001-7429-4285-af41-8657972b73cc",
   "metadata": {},
   "outputs": [
    {
     "data": {
      "text/plain": [
       "1000"
      ]
     },
     "execution_count": 128,
     "metadata": {},
     "output_type": "execute_result"
    }
   ],
   "source": [
    "len(mobile_price_test_data_prediction)\n"
   ]
  },
  {
   "cell_type": "code",
   "execution_count": 129,
   "id": "70cd8686-aa8e-48a5-af13-a4b27da2884a",
   "metadata": {},
   "outputs": [],
   "source": [
    "\n",
    "mobile_price_test_data_prediction.to_csv('./data/mobile_price_test_data_prediction.csv', index=False)\n"
   ]
  },
  {
   "cell_type": "code",
   "execution_count": null,
   "id": "7dd305f8-4593-4c2c-9f8d-c2c74706b7aa",
   "metadata": {},
   "outputs": [],
   "source": []
  },
  {
   "cell_type": "code",
   "execution_count": null,
   "id": "4d32877f-26de-4a17-a38a-e1001e1018b6",
   "metadata": {},
   "outputs": [],
   "source": []
  }
 ],
 "metadata": {
  "kernelspec": {
   "display_name": "Python 3 (ipykernel)",
   "language": "python",
   "name": "python3"
  },
  "language_info": {
   "codemirror_mode": {
    "name": "ipython",
    "version": 3
   },
   "file_extension": ".py",
   "mimetype": "text/x-python",
   "name": "python",
   "nbconvert_exporter": "python",
   "pygments_lexer": "ipython3",
   "version": "3.12.2"
  }
 },
 "nbformat": 4,
 "nbformat_minor": 5
}
